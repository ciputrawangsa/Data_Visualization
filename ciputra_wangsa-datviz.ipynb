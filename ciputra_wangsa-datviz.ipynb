{
 "cells": [
  {
   "cell_type": "markdown",
   "metadata": {},
   "source": [
    "====================================================================================================================================\n",
    "\n",
    "Program ini dibuat untuk menganalisa data dan menyelesaikan problem statement yang dibuat. Dalam program ini dilakukan data exploration, data cleaning dan data analysis. Dalam data exploration dilakukan eksplorasi mengenai kolom-kolom data, tipe data, dan isi data.  Dalam data cleaning dilakukan pemilihan kolom mana yang akan digunakan, mengubah format data kolom ke tipe yang sesuai, menghapus data duplikat dan handing missing value. Selanjutnya data dianalisa menggunakan data visualization, perhitungan statistika deskriptif, perhitungan statistika \n",
    "dan inferensial. Selanjutnya diambil kesimpulan dan rekomendasi dari hasil analisa yang sudah dilakukan. Setelah analisa dilakukan, data visualisasi dan gambaran analisa statistika juga dimuat ke dalam dashboard tableau.\n",
    "\n",
    "Dataset:\n",
    "\n",
    "https://www.kaggle.com/datasets/kartikeybartwal/ecommerce-product-recommendation-collaborative/data\n",
    "\n",
    "Link Tableau:\n",
    "\n",
    "https://public.tableau.com/views/DataVisualization_17249250434480/Dashboard1?:language=en-GB&publish=yes&:sid=&:redirect=auth&:display_count=n&:origin=viz_share_link\n",
    "\n",
    "\n",
    "===================================================================================================================================="
   ]
  },
  {
   "cell_type": "markdown",
   "metadata": {},
   "source": [
    "## Latar Belakang Masalah"
   ]
  },
  {
   "cell_type": "markdown",
   "metadata": {},
   "source": [
    "Pendapatan beberapa bulan terakhir di toko tidak ada kenaikan atau penurunan yang signifikan. Sehingga harus mencari cara untuk meningkatkan pendapatan. Meskipun toko dapat mempertahankan pendapatan pada level yang sama, ketidakmampuan untuk meningkatkan pendapatan dapat mengindikasikan adanya masalah dalam strategi bisnis dan pemasaran. Menemukan strategi yang tepat adalah cara yang bisa dilakukan toko mengatasi stagnansi pendapatan dan mencapai pertumbuhan yang berkelanjutan."
   ]
  },
  {
   "cell_type": "markdown",
   "metadata": {},
   "source": [
    "## Problem Statement"
   ]
  },
  {
   "cell_type": "markdown",
   "metadata": {},
   "source": [
    "**Specific:** Pendapatan toko bergerak stagnan, sehingga harus ditingkatkan\n",
    "\n",
    "**Measurable:** Nilai GMV dari penjualan toko meningkat sebesar 30%\n",
    "\n",
    "**Achievable:** Pendapatan GMV bisa ditingkatkan dengan meningkatkan nilai rata-rata belanja tiap customer di website\n",
    "\n",
    "**Relevant:** Meningkatkan rata-rata nilai belanja tiap customer bisa meningkatkan nilai GMV dan berpengaruh dengan peningkatan pendapatan toko\n",
    "\n",
    "**Timebond:** Target untuk meningkatkan nilai GMV sebesar 30% ditetapkan dengan target waktu selama 1 bulan\n",
    "\n",
    "\n",
    "**Problem statement:**\n",
    "Meningkatkan pendapatan toko dengan meningkatkan nilai GMV sebesar 30% selama 1 bulan kedepan. Cara yang bisa dilakukan untuk meningkatkan nilai GMV adalah meningkatkan rata-rata nilai belanja customer."
   ]
  },
  {
   "cell_type": "markdown",
   "metadata": {},
   "source": [
    "## Penjabaran Masalah"
   ]
  },
  {
   "cell_type": "markdown",
   "metadata": {},
   "source": [
    "Berikut adalah penjabaran masalah yang akan dianalisa:\n",
    "1. Bagaimana proporsi kategori produk pilihan user terhadap total revenue?\n",
    "2. Lokasi mana yang memberikan revenue terbanyak?\n",
    "3. Bagaimana proporsi gender terhadap total revenue?\n",
    "4. Bagaimana proporsi kategori usia user berdasarkan total revenue?\n",
    "5. Berapa jumlah user yang subscribe newsletter dan tidak subscribe? \n",
    "6. Apakah ada korelasi antara income user dengan average order value yang dibelanjakan oleh user?\n",
    "7. Apakah ada korelasi antara total revenue dengan average order value yang dibelanjakan oleh user?\n",
    "8. Apakah ada korelasi antara interest user dengan kategori produk?\n",
    "9. Apakah ada korelasi antara kategori umur dengan kategori produk?\n",
    "10. Apakah ada perbedaan frekuensi belanja antara user yang subscribe newsletter dan tidak subscribe?\n",
    "11. Apakah ada perbedaan antara lamanya user terakhir login dari user yang subscribe newsletter dan tidak subscribe?\n",
    "12. Apakah ada perbedaan nilai belanja rata-rata dari user yang subscribe newsletter dan tidak subscribe newlestter?"
   ]
  },
  {
   "cell_type": "markdown",
   "metadata": {},
   "source": [
    "# **Data Loading**"
   ]
  },
  {
   "cell_type": "markdown",
   "metadata": {},
   "source": [
    "Pada bagian ini akan dilakukan eksplorasi data sederhana. Dimulai dari mengimport library dan file CSV yang akan digunakan dalam eksplorasi data dan proses analisa. Pada bagian ini sumber data juga dicantumkan, kemudian dari data tersebut dilakukan pengecekan informasi jumlah kolom dan baris yang ada pada dataeset, ringkasan informasi pada dataset, nama-nama kolom serta penjelasannya, dan beberapa baris atas dan bawah dataset."
   ]
  },
  {
   "cell_type": "markdown",
   "metadata": {},
   "source": [
    "## Import Library dan File Data CSV"
   ]
  },
  {
   "cell_type": "code",
   "execution_count": 52,
   "metadata": {},
   "outputs": [],
   "source": [
    "# import library pandas\n",
    "import pandas as pd \n",
    "\n",
    "# mengimport library scipy dan plotly untuk kebutuhan analisa\n",
    "from scipy import stats\n",
    "import plotly.express as px\n",
    "\n",
    "# memanggil file CSV yang berisi data yang akan dianalisa dan disimpan ke dalam variabel bernama data\n",
    "data = pd.read_csv('user_personalized_features.csv')"
   ]
  },
  {
   "cell_type": "markdown",
   "metadata": {},
   "source": [
    "## Jumlah Baris dan Kolom Pada Dataset"
   ]
  },
  {
   "cell_type": "code",
   "execution_count": 53,
   "metadata": {},
   "outputs": [
    {
     "data": {
      "text/plain": [
       "(1000, 15)"
      ]
     },
     "execution_count": 53,
     "metadata": {},
     "output_type": "execute_result"
    }
   ],
   "source": [
    "# menampilkan jumlah baris dan kolom dataset menggunakan fungsi .shape\n",
    "data.shape"
   ]
  },
  {
   "cell_type": "markdown",
   "metadata": {},
   "source": [
    "Dari fungsi diatas, didapatkan informasi ada 1000 baris dan 15 kolom pada dataset."
   ]
  },
  {
   "cell_type": "markdown",
   "metadata": {},
   "source": [
    "## Informasi Umum Pada Data"
   ]
  },
  {
   "cell_type": "code",
   "execution_count": 54,
   "metadata": {},
   "outputs": [
    {
     "name": "stdout",
     "output_type": "stream",
     "text": [
      "<class 'pandas.core.frame.DataFrame'>\n",
      "RangeIndex: 1000 entries, 0 to 999\n",
      "Data columns (total 15 columns):\n",
      " #   Column                       Non-Null Count  Dtype \n",
      "---  ------                       --------------  ----- \n",
      " 0   Unnamed: 0                   1000 non-null   int64 \n",
      " 1   User_ID                      1000 non-null   object\n",
      " 2   Age                          1000 non-null   int64 \n",
      " 3   Gender                       1000 non-null   object\n",
      " 4   Location                     1000 non-null   object\n",
      " 5   Income                       1000 non-null   int64 \n",
      " 6   Interests                    1000 non-null   object\n",
      " 7   Last_Login_Days_Ago          1000 non-null   int64 \n",
      " 8   Purchase_Frequency           1000 non-null   int64 \n",
      " 9   Average_Order_Value          1000 non-null   int64 \n",
      " 10  Total_Spending               1000 non-null   int64 \n",
      " 11  Product_Category_Preference  1000 non-null   object\n",
      " 12  Time_Spent_on_Site_Minutes   1000 non-null   int64 \n",
      " 13  Pages_Viewed                 1000 non-null   int64 \n",
      " 14  Newsletter_Subscription      1000 non-null   bool  \n",
      "dtypes: bool(1), int64(9), object(5)\n",
      "memory usage: 110.5+ KB\n"
     ]
    }
   ],
   "source": [
    "# menampilkan informasi summary dataset menggunakan fungsi .info()\n",
    "data.info()"
   ]
  },
  {
   "cell_type": "markdown",
   "metadata": {},
   "source": [
    "**Insight:**\n",
    "1. Kolom 'Unnamed: 0' tidak memiliki informasi yang penting\n",
    "2. Tipe data kolom Income, Average_Order_Value, Total_Spending yang berisi data harga/nominal berformat integer, kolom User_ID bertipe object\n",
    "3. Jumlah baris data ada 1000\n",
    "4. Jumlah kolom ada 15 dan tidak ada duplikat (sama dengan unique value nama kolom)\n",
    "5. Missing value tidak ditemukan jika dilihat dari kolom Non-Null Count\n",
    "\n",
    "**Rekomendasi:**\n",
    "1. Kolom 'Unnamed: 0' akan dihapus (solving insight 1)\n",
    "2. Mengubah tipe data kolom Income, Average_Order_Value, Total_Spending menjadi tipe float, mengubah tipe data kolom User_ID menjadi tipe integer(solving insight 2)\n",
    "3. Melakukan pengecekan apakah ada data yang terduplikat saat data cleaning (solving insight 3)"
   ]
  },
  {
   "cell_type": "markdown",
   "metadata": {},
   "source": [
    "## Nama-nama Kolom"
   ]
  },
  {
   "cell_type": "code",
   "execution_count": 55,
   "metadata": {},
   "outputs": [
    {
     "data": {
      "text/plain": [
       "Index(['Unnamed: 0', 'User_ID', 'Age', 'Gender', 'Location', 'Income',\n",
       "       'Interests', 'Last_Login_Days_Ago', 'Purchase_Frequency',\n",
       "       'Average_Order_Value', 'Total_Spending', 'Product_Category_Preference',\n",
       "       'Time_Spent_on_Site_Minutes', 'Pages_Viewed',\n",
       "       'Newsletter_Subscription'],\n",
       "      dtype='object')"
      ]
     },
     "execution_count": 55,
     "metadata": {},
     "output_type": "execute_result"
    }
   ],
   "source": [
    "# menampilkan nama kolom\n",
    "data.columns"
   ]
  },
  {
   "cell_type": "code",
   "execution_count": 56,
   "metadata": {},
   "outputs": [
    {
     "data": {
      "text/plain": [
       "Index(['Unnamed: 0', 'User_ID', 'Age', 'Gender', 'Location', 'Income',\n",
       "       'Interests', 'Last_Login_Days_Ago', 'Purchase_Frequency',\n",
       "       'Average_Order_Value', 'Total_Spending', 'Product_Category_Preference',\n",
       "       'Time_Spent_on_Site_Minutes', 'Pages_Viewed',\n",
       "       'Newsletter_Subscription'],\n",
       "      dtype='object')"
      ]
     },
     "execution_count": 56,
     "metadata": {},
     "output_type": "execute_result"
    }
   ],
   "source": [
    "# menampilkan unique value dari nama kolom\n",
    "data.columns.unique()"
   ]
  },
  {
   "cell_type": "markdown",
   "metadata": {},
   "source": [
    "Total ada 15 kolom yang berisi data yang akan dianalisa, dari nama kolom dan unique value nama kolom tidak ada perbedaan sehingga bisa didapatkan informasi bahwa tidak ada nama kolom yang terduplikat. Untuk kolom 'Unnamed: 0' kemungkinan itu adalah kolom index yang ikut terkonversi menjadi file CSV. Untuk kolom-kolom lain penjelasannya sebagai berikut:"
   ]
  },
  {
   "cell_type": "markdown",
   "metadata": {},
   "source": [
    "\n",
    "| Nama kolom                     |                        Deskripsi                              |\n",
    "|:------------------------------:|:-------------------------------------------------------------:|\n",
    "| User_ID                        | Unique identifier untuk setiap user                           |\n",
    "| Age                            | Umur dari user                                                |\n",
    "| Gender                         | Gender customer                                               |\n",
    "| Location                       | Asal lokasi user                                              |\n",
    "| Income                         | Nilai pendapatan dari user                                    |\n",
    "| Interest                       | Bidang ketertarikan user                                      |\n",
    "| Last_Login_Days_Ago            | Berapa hari user terakhir login                               |\n",
    "| Purchase_Frequency             | Frekuensi pembelian yang dilakukan oleh user                  |\n",
    "| Average_Order_Value            | Rata-rata nilai yang dibayarkan user dalam satu transaksi     |\n",
    "| Total_Spending                 | Total nilai dari transaksi user                               |\n",
    "| Product_Category_Preference    | Kategori produk pilihan user                                  |\n",
    "| Time_Spent_on_Site_Minutes     | Total durasi yang dihabiskan user diwebsite                   |\n",
    "| Pages Viewed                   | Halaman yang dikunjungi oleh user di website                  |\n",
    "| Newsletter_Subscription        | Informasi apakah user berlangganan newsletter toko atau tidak |"
   ]
  },
  {
   "cell_type": "markdown",
   "metadata": {},
   "source": [
    "## Baris Data Teratas"
   ]
  },
  {
   "cell_type": "code",
   "execution_count": 57,
   "metadata": {},
   "outputs": [
    {
     "data": {
      "text/html": [
       "<div>\n",
       "<style scoped>\n",
       "    .dataframe tbody tr th:only-of-type {\n",
       "        vertical-align: middle;\n",
       "    }\n",
       "\n",
       "    .dataframe tbody tr th {\n",
       "        vertical-align: top;\n",
       "    }\n",
       "\n",
       "    .dataframe thead th {\n",
       "        text-align: right;\n",
       "    }\n",
       "</style>\n",
       "<table border=\"1\" class=\"dataframe\">\n",
       "  <thead>\n",
       "    <tr style=\"text-align: right;\">\n",
       "      <th></th>\n",
       "      <th>Unnamed: 0</th>\n",
       "      <th>User_ID</th>\n",
       "      <th>Age</th>\n",
       "      <th>Gender</th>\n",
       "      <th>Location</th>\n",
       "      <th>Income</th>\n",
       "      <th>Interests</th>\n",
       "      <th>Last_Login_Days_Ago</th>\n",
       "      <th>Purchase_Frequency</th>\n",
       "      <th>Average_Order_Value</th>\n",
       "      <th>Total_Spending</th>\n",
       "      <th>Product_Category_Preference</th>\n",
       "      <th>Time_Spent_on_Site_Minutes</th>\n",
       "      <th>Pages_Viewed</th>\n",
       "      <th>Newsletter_Subscription</th>\n",
       "    </tr>\n",
       "  </thead>\n",
       "  <tbody>\n",
       "    <tr>\n",
       "      <th>0</th>\n",
       "      <td>0</td>\n",
       "      <td>#1</td>\n",
       "      <td>56</td>\n",
       "      <td>Male</td>\n",
       "      <td>Suburban</td>\n",
       "      <td>38037</td>\n",
       "      <td>Sports</td>\n",
       "      <td>5</td>\n",
       "      <td>7</td>\n",
       "      <td>18</td>\n",
       "      <td>2546</td>\n",
       "      <td>Books</td>\n",
       "      <td>584</td>\n",
       "      <td>38</td>\n",
       "      <td>True</td>\n",
       "    </tr>\n",
       "    <tr>\n",
       "      <th>1</th>\n",
       "      <td>1</td>\n",
       "      <td>#2</td>\n",
       "      <td>46</td>\n",
       "      <td>Female</td>\n",
       "      <td>Rural</td>\n",
       "      <td>103986</td>\n",
       "      <td>Technology</td>\n",
       "      <td>15</td>\n",
       "      <td>7</td>\n",
       "      <td>118</td>\n",
       "      <td>320</td>\n",
       "      <td>Electronics</td>\n",
       "      <td>432</td>\n",
       "      <td>40</td>\n",
       "      <td>False</td>\n",
       "    </tr>\n",
       "    <tr>\n",
       "      <th>2</th>\n",
       "      <td>2</td>\n",
       "      <td>#3</td>\n",
       "      <td>32</td>\n",
       "      <td>Female</td>\n",
       "      <td>Suburban</td>\n",
       "      <td>101942</td>\n",
       "      <td>Sports</td>\n",
       "      <td>28</td>\n",
       "      <td>1</td>\n",
       "      <td>146</td>\n",
       "      <td>3766</td>\n",
       "      <td>Apparel</td>\n",
       "      <td>306</td>\n",
       "      <td>1</td>\n",
       "      <td>True</td>\n",
       "    </tr>\n",
       "    <tr>\n",
       "      <th>3</th>\n",
       "      <td>3</td>\n",
       "      <td>#4</td>\n",
       "      <td>60</td>\n",
       "      <td>Female</td>\n",
       "      <td>Suburban</td>\n",
       "      <td>71612</td>\n",
       "      <td>Fashion</td>\n",
       "      <td>18</td>\n",
       "      <td>3</td>\n",
       "      <td>163</td>\n",
       "      <td>4377</td>\n",
       "      <td>Apparel</td>\n",
       "      <td>527</td>\n",
       "      <td>29</td>\n",
       "      <td>False</td>\n",
       "    </tr>\n",
       "    <tr>\n",
       "      <th>4</th>\n",
       "      <td>4</td>\n",
       "      <td>#5</td>\n",
       "      <td>25</td>\n",
       "      <td>Male</td>\n",
       "      <td>Suburban</td>\n",
       "      <td>49725</td>\n",
       "      <td>Travel</td>\n",
       "      <td>2</td>\n",
       "      <td>5</td>\n",
       "      <td>141</td>\n",
       "      <td>4502</td>\n",
       "      <td>Health &amp; Beauty</td>\n",
       "      <td>53</td>\n",
       "      <td>10</td>\n",
       "      <td>True</td>\n",
       "    </tr>\n",
       "  </tbody>\n",
       "</table>\n",
       "</div>"
      ],
      "text/plain": [
       "   Unnamed: 0 User_ID  Age  Gender  Location  Income   Interests  \\\n",
       "0           0      #1   56    Male  Suburban   38037      Sports   \n",
       "1           1      #2   46  Female     Rural  103986  Technology   \n",
       "2           2      #3   32  Female  Suburban  101942      Sports   \n",
       "3           3      #4   60  Female  Suburban   71612     Fashion   \n",
       "4           4      #5   25    Male  Suburban   49725      Travel   \n",
       "\n",
       "   Last_Login_Days_Ago  Purchase_Frequency  Average_Order_Value  \\\n",
       "0                    5                   7                   18   \n",
       "1                   15                   7                  118   \n",
       "2                   28                   1                  146   \n",
       "3                   18                   3                  163   \n",
       "4                    2                   5                  141   \n",
       "\n",
       "   Total_Spending Product_Category_Preference  Time_Spent_on_Site_Minutes  \\\n",
       "0            2546                       Books                         584   \n",
       "1             320                 Electronics                         432   \n",
       "2            3766                     Apparel                         306   \n",
       "3            4377                     Apparel                         527   \n",
       "4            4502             Health & Beauty                          53   \n",
       "\n",
       "   Pages_Viewed  Newsletter_Subscription  \n",
       "0            38                     True  \n",
       "1            40                    False  \n",
       "2             1                     True  \n",
       "3            29                    False  \n",
       "4            10                     True  "
      ]
     },
     "execution_count": 57,
     "metadata": {},
     "output_type": "execute_result"
    }
   ],
   "source": [
    "# menampilkan 5 baris teratas data menggunakan fungsi .head()\n",
    "data.head()"
   ]
  },
  {
   "cell_type": "markdown",
   "metadata": {},
   "source": [
    "Insight:\n",
    "\n",
    "Dari output diatas didapatkan:\n",
    "- Informasi mengenai data demografik customer dari kolom Age, Gender, Location, Income\n",
    "- Informasi mengenai kategori kesukaan dan produk pilihan dari customer dari kolom Interest dan Product_Category_Preference\n",
    "- Informasi mengenai pendapatan customer dari kolom Income\n",
    "- Informasi mengenai customer buying behavior dari kolom Purchase_Frequency, Average_Order_Value, Total_Spending\n",
    "- Informasi mengenai engagement metrics dari kolom Last_Login_Days_Ago, Time_Spent_on_Site_Minutes, Pages_Viewed\n",
    "- Informasi mengenai channel penawaran dari kolom Newsletter_Subscription\n",
    "- Di kolom User_ID memiliki karakter '#' disetiap barisnya, sehingga nanti akan dihapus agar memudahkan proses analisa jika dibutuhkan"
   ]
  },
  {
   "cell_type": "markdown",
   "metadata": {},
   "source": [
    "## Baris Data Terbawah"
   ]
  },
  {
   "cell_type": "code",
   "execution_count": 58,
   "metadata": {},
   "outputs": [
    {
     "data": {
      "text/html": [
       "<div>\n",
       "<style scoped>\n",
       "    .dataframe tbody tr th:only-of-type {\n",
       "        vertical-align: middle;\n",
       "    }\n",
       "\n",
       "    .dataframe tbody tr th {\n",
       "        vertical-align: top;\n",
       "    }\n",
       "\n",
       "    .dataframe thead th {\n",
       "        text-align: right;\n",
       "    }\n",
       "</style>\n",
       "<table border=\"1\" class=\"dataframe\">\n",
       "  <thead>\n",
       "    <tr style=\"text-align: right;\">\n",
       "      <th></th>\n",
       "      <th>Unnamed: 0</th>\n",
       "      <th>User_ID</th>\n",
       "      <th>Age</th>\n",
       "      <th>Gender</th>\n",
       "      <th>Location</th>\n",
       "      <th>Income</th>\n",
       "      <th>Interests</th>\n",
       "      <th>Last_Login_Days_Ago</th>\n",
       "      <th>Purchase_Frequency</th>\n",
       "      <th>Average_Order_Value</th>\n",
       "      <th>Total_Spending</th>\n",
       "      <th>Product_Category_Preference</th>\n",
       "      <th>Time_Spent_on_Site_Minutes</th>\n",
       "      <th>Pages_Viewed</th>\n",
       "      <th>Newsletter_Subscription</th>\n",
       "    </tr>\n",
       "  </thead>\n",
       "  <tbody>\n",
       "    <tr>\n",
       "      <th>995</th>\n",
       "      <td>995</td>\n",
       "      <td>#996</td>\n",
       "      <td>22</td>\n",
       "      <td>Male</td>\n",
       "      <td>Urban</td>\n",
       "      <td>104162</td>\n",
       "      <td>Technology</td>\n",
       "      <td>18</td>\n",
       "      <td>7</td>\n",
       "      <td>83</td>\n",
       "      <td>607</td>\n",
       "      <td>Apparel</td>\n",
       "      <td>542</td>\n",
       "      <td>21</td>\n",
       "      <td>False</td>\n",
       "    </tr>\n",
       "    <tr>\n",
       "      <th>996</th>\n",
       "      <td>996</td>\n",
       "      <td>#997</td>\n",
       "      <td>40</td>\n",
       "      <td>Male</td>\n",
       "      <td>Urban</td>\n",
       "      <td>99003</td>\n",
       "      <td>Travel</td>\n",
       "      <td>16</td>\n",
       "      <td>3</td>\n",
       "      <td>180</td>\n",
       "      <td>431</td>\n",
       "      <td>Apparel</td>\n",
       "      <td>359</td>\n",
       "      <td>4</td>\n",
       "      <td>True</td>\n",
       "    </tr>\n",
       "    <tr>\n",
       "      <th>997</th>\n",
       "      <td>997</td>\n",
       "      <td>#998</td>\n",
       "      <td>27</td>\n",
       "      <td>Female</td>\n",
       "      <td>Urban</td>\n",
       "      <td>72395</td>\n",
       "      <td>Technology</td>\n",
       "      <td>8</td>\n",
       "      <td>8</td>\n",
       "      <td>130</td>\n",
       "      <td>650</td>\n",
       "      <td>Books</td>\n",
       "      <td>331</td>\n",
       "      <td>34</td>\n",
       "      <td>False</td>\n",
       "    </tr>\n",
       "    <tr>\n",
       "      <th>998</th>\n",
       "      <td>998</td>\n",
       "      <td>#999</td>\n",
       "      <td>61</td>\n",
       "      <td>Male</td>\n",
       "      <td>Rural</td>\n",
       "      <td>59758</td>\n",
       "      <td>Travel</td>\n",
       "      <td>1</td>\n",
       "      <td>3</td>\n",
       "      <td>152</td>\n",
       "      <td>1041</td>\n",
       "      <td>Electronics</td>\n",
       "      <td>427</td>\n",
       "      <td>28</td>\n",
       "      <td>True</td>\n",
       "    </tr>\n",
       "    <tr>\n",
       "      <th>999</th>\n",
       "      <td>999</td>\n",
       "      <td>#1000</td>\n",
       "      <td>19</td>\n",
       "      <td>Male</td>\n",
       "      <td>Rural</td>\n",
       "      <td>74312</td>\n",
       "      <td>Sports</td>\n",
       "      <td>12</td>\n",
       "      <td>7</td>\n",
       "      <td>175</td>\n",
       "      <td>827</td>\n",
       "      <td>Health &amp; Beauty</td>\n",
       "      <td>497</td>\n",
       "      <td>38</td>\n",
       "      <td>True</td>\n",
       "    </tr>\n",
       "  </tbody>\n",
       "</table>\n",
       "</div>"
      ],
      "text/plain": [
       "     Unnamed: 0 User_ID  Age  Gender Location  Income   Interests  \\\n",
       "995         995    #996   22    Male    Urban  104162  Technology   \n",
       "996         996    #997   40    Male    Urban   99003      Travel   \n",
       "997         997    #998   27  Female    Urban   72395  Technology   \n",
       "998         998    #999   61    Male    Rural   59758      Travel   \n",
       "999         999   #1000   19    Male    Rural   74312      Sports   \n",
       "\n",
       "     Last_Login_Days_Ago  Purchase_Frequency  Average_Order_Value  \\\n",
       "995                   18                   7                   83   \n",
       "996                   16                   3                  180   \n",
       "997                    8                   8                  130   \n",
       "998                    1                   3                  152   \n",
       "999                   12                   7                  175   \n",
       "\n",
       "     Total_Spending Product_Category_Preference  Time_Spent_on_Site_Minutes  \\\n",
       "995             607                     Apparel                         542   \n",
       "996             431                     Apparel                         359   \n",
       "997             650                       Books                         331   \n",
       "998            1041                 Electronics                         427   \n",
       "999             827             Health & Beauty                         497   \n",
       "\n",
       "     Pages_Viewed  Newsletter_Subscription  \n",
       "995            21                    False  \n",
       "996             4                     True  \n",
       "997            34                    False  \n",
       "998            28                     True  \n",
       "999            38                     True  "
      ]
     },
     "execution_count": 58,
     "metadata": {},
     "output_type": "execute_result"
    }
   ],
   "source": [
    "# menampilkan 5 baris terbawah data menggunakan fungsi .tail()\n",
    "data.tail()"
   ]
  },
  {
   "cell_type": "markdown",
   "metadata": {},
   "source": [
    "Insight:\n",
    "\n",
    "Dari baris data terbawah bisa didapatkan informasi bahwa susunan baris terisi dengan baik, tetapi nanti akan dicek kembali pada melakukan data cleaning apakah ada data duplikat atau missing value di tabel tersebut"
   ]
  },
  {
   "cell_type": "markdown",
   "metadata": {},
   "source": [
    "# **Data Cleaning**"
   ]
  },
  {
   "cell_type": "markdown",
   "metadata": {},
   "source": [
    "Pada bagian ini akan dilakukan data cleaning. Proses data cleaning yang dilakukan adalah cek data duplikat, cek missing value, drop kolom yang tidak dibutuhkan, menghapus karakter yang tidak dibutuhkan, dan mengubah beberapa tipe data kolom."
   ]
  },
  {
   "cell_type": "markdown",
   "metadata": {},
   "source": [
    "## Cek Data Duplikat"
   ]
  },
  {
   "cell_type": "code",
   "execution_count": 59,
   "metadata": {},
   "outputs": [
    {
     "data": {
      "text/plain": [
       "0"
      ]
     },
     "execution_count": 59,
     "metadata": {},
     "output_type": "execute_result"
    }
   ],
   "source": [
    "# melakukan pengecekan apakah ada nilai data yang terduplikat beserta jumlahnya menggunakan fungsi .duplicated().sum()\n",
    "data.duplicated().sum()"
   ]
  },
  {
   "cell_type": "markdown",
   "metadata": {},
   "source": [
    "Dari hasil output diatas didapatkan informasi bahwa tidak ada data yang terduplikat."
   ]
  },
  {
   "cell_type": "markdown",
   "metadata": {},
   "source": [
    "## Cek Missing Value"
   ]
  },
  {
   "cell_type": "code",
   "execution_count": 60,
   "metadata": {},
   "outputs": [
    {
     "data": {
      "text/plain": [
       "Unnamed: 0                     0\n",
       "User_ID                        0\n",
       "Age                            0\n",
       "Gender                         0\n",
       "Location                       0\n",
       "Income                         0\n",
       "Interests                      0\n",
       "Last_Login_Days_Ago            0\n",
       "Purchase_Frequency             0\n",
       "Average_Order_Value            0\n",
       "Total_Spending                 0\n",
       "Product_Category_Preference    0\n",
       "Time_Spent_on_Site_Minutes     0\n",
       "Pages_Viewed                   0\n",
       "Newsletter_Subscription        0\n",
       "dtype: int64"
      ]
     },
     "execution_count": 60,
     "metadata": {},
     "output_type": "execute_result"
    }
   ],
   "source": [
    "# melakukan pengecekan apakah ada nilai data yang hilang/kosong beserta jumlahnya menggunakan fungsi .isnull().sum()\n",
    "data.isnull().sum()"
   ]
  },
  {
   "cell_type": "markdown",
   "metadata": {},
   "source": [
    "Dari hasil output diatas didapatkan informasi bahwa tidak ada baris pada tiap kolom yang nilainya kosong."
   ]
  },
  {
   "cell_type": "markdown",
   "metadata": {},
   "source": [
    "## Drop Kolom yang Tidak Dibutuhkan"
   ]
  },
  {
   "cell_type": "markdown",
   "metadata": {},
   "source": [
    "Kolom 'Unnamed: 0' didrop karena tidak memiliki informasi yang penting.\n",
    "\n",
    "Kolom 'Time_Spent_on_Site_Minutes' didrop karena tidak menggambarkan interaksi user sepenuhnya. Misalnya user meninggalkan device dengan posisi website sedang terbuka.\n",
    "\n",
    "Kolom 'Pages_Viewed' didrop karena tidak sepenuhnya mencerminkan ketertarikan user. Misalnya hanya sengaja melihat-lihat kategori produk yang ada di website, atau akunnya digunakan oleh orang lain.\n"
   ]
  },
  {
   "cell_type": "code",
   "execution_count": 61,
   "metadata": {},
   "outputs": [],
   "source": [
    "# menghapus kolom 'Unnamed: 0', 'Time_Spent_on_Site_minutes', dan 'Pages_Viewed' menggunakan fungsi .drop() dan menyimpan tabel baru ke dalam variabel c_data\n",
    "data.drop(columns=['Unnamed: 0'], inplace=True)"
   ]
  },
  {
   "cell_type": "markdown",
   "metadata": {},
   "source": [
    "## Menambah Kolom Kategori Usia"
   ]
  },
  {
   "cell_type": "markdown",
   "metadata": {},
   "source": [
    "Untuk memudahkan proses analisa data usia, maka data usia user akan digrouping menjadi 5 kategori usia, yaitu usia dengan range 18-24 tahun, usia dengan range 25-34 tahun, usia dengan range 35-44 tahun, usia dengan range 45-54 tahun, dan usia dengan range 55-64 tahun. Setelah itu kolom baru akan dibuat dengan nama Age_Category yang berisi kategori usia dari user."
   ]
  },
  {
   "cell_type": "code",
   "execution_count": 62,
   "metadata": {},
   "outputs": [],
   "source": [
    "Age_Category = []\n",
    "\n",
    "for umur in data['Age']:\n",
    "    if 18 <= umur <= 24:\n",
    "        Age_Category.append('18-24 Tahun')\n",
    "    elif 25 <= umur <= 34:\n",
    "        Age_Category.append('25-34 Tahun')\n",
    "    elif 35 <= umur <= 44:\n",
    "        Age_Category.append('35-44 Tahun')\n",
    "    elif 45 <= umur <= 54:\n",
    "        Age_Category.append('45-54 Tahun')\n",
    "    elif 55 <= umur <= 64:\n",
    "        Age_Category.append('55-64 Tahun')\n",
    "    else:\n",
    "        Age_Category.append('Diluar range')\n",
    "\n",
    "data['Age_Category'] = Age_Category"
   ]
  },
  {
   "cell_type": "markdown",
   "metadata": {},
   "source": [
    "## Eksport Dataframe ke File CSV untuk Digunakan di Tableau"
   ]
  },
  {
   "cell_type": "markdown",
   "metadata": {},
   "source": [
    "Setelah data selesai dibersihkan, selanjutnya data dieksport ke file CSV untuk kebutuhan visualisasi di Tableau."
   ]
  },
  {
   "cell_type": "code",
   "execution_count": 63,
   "metadata": {},
   "outputs": [],
   "source": [
    "# eksport data ke file CSV menggunakan fungsi .to_csv() \n",
    "data.to_csv('cleaned_data.csv', index=False)"
   ]
  },
  {
   "cell_type": "markdown",
   "metadata": {},
   "source": [
    "# **Analisis dan Perhitungan**"
   ]
  },
  {
   "cell_type": "markdown",
   "metadata": {},
   "source": [
    "## Bagaimana proporsi kategori produk pilihan user terhadap total revenue?"
   ]
  },
  {
   "cell_type": "markdown",
   "metadata": {},
   "source": [
    "Untuk melihat proporsi kategori produk terhadap total revenue, pertama dilakukan pengelompokkan kategori produk dan menghitung revenue yang dihasilkan berdasarkan masing-masing produk, lalu ditampilkan menggunakan diagram bar. Konstruksinya seperti dibawah ini:"
   ]
  },
  {
   "cell_type": "code",
   "execution_count": 64,
   "metadata": {},
   "outputs": [
    {
     "data": {
      "application/vnd.plotly.v1+json": {
       "config": {
        "plotlyServerURL": "https://plot.ly"
       },
       "data": [
        {
         "alignmentgroup": "True",
         "hovertemplate": "Product_Category_Preference=%{x}<br>Total_Spending=%{y}<extra></extra>",
         "legendgroup": "Apparel",
         "marker": {
          "color": "green",
          "pattern": {
           "shape": ""
          }
         },
         "name": "Apparel",
         "offsetgroup": "Apparel",
         "orientation": "v",
         "showlegend": true,
         "textposition": "auto",
         "type": "bar",
         "x": [
          "Apparel"
         ],
         "xaxis": "x",
         "y": [
          568820
         ],
         "yaxis": "y"
        },
        {
         "alignmentgroup": "True",
         "hovertemplate": "Product_Category_Preference=%{x}<br>Total_Spending=%{y}<extra></extra>",
         "legendgroup": "Home & Kitchen",
         "marker": {
          "color": "blue",
          "pattern": {
           "shape": ""
          }
         },
         "name": "Home & Kitchen",
         "offsetgroup": "Home & Kitchen",
         "orientation": "v",
         "showlegend": true,
         "textposition": "auto",
         "type": "bar",
         "x": [
          "Home & Kitchen"
         ],
         "xaxis": "x",
         "y": [
          516217
         ],
         "yaxis": "y"
        },
        {
         "alignmentgroup": "True",
         "hovertemplate": "Product_Category_Preference=%{x}<br>Total_Spending=%{y}<extra></extra>",
         "legendgroup": "Electronics",
         "marker": {
          "color": "purple",
          "pattern": {
           "shape": ""
          }
         },
         "name": "Electronics",
         "offsetgroup": "Electronics",
         "orientation": "v",
         "showlegend": true,
         "textposition": "auto",
         "type": "bar",
         "x": [
          "Electronics"
         ],
         "xaxis": "x",
         "y": [
          502030
         ],
         "yaxis": "y"
        },
        {
         "alignmentgroup": "True",
         "hovertemplate": "Product_Category_Preference=%{x}<br>Total_Spending=%{y}<extra></extra>",
         "legendgroup": "Health & Beauty",
         "marker": {
          "color": "brown",
          "pattern": {
           "shape": ""
          }
         },
         "name": "Health & Beauty",
         "offsetgroup": "Health & Beauty",
         "orientation": "v",
         "showlegend": true,
         "textposition": "auto",
         "type": "bar",
         "x": [
          "Health & Beauty"
         ],
         "xaxis": "x",
         "y": [
          487525
         ],
         "yaxis": "y"
        },
        {
         "alignmentgroup": "True",
         "hovertemplate": "Product_Category_Preference=%{x}<br>Total_Spending=%{y}<extra></extra>",
         "legendgroup": "Books",
         "marker": {
          "color": "orange",
          "pattern": {
           "shape": ""
          }
         },
         "name": "Books",
         "offsetgroup": "Books",
         "orientation": "v",
         "showlegend": true,
         "textposition": "auto",
         "type": "bar",
         "x": [
          "Books"
         ],
         "xaxis": "x",
         "y": [
          478365
         ],
         "yaxis": "y"
        }
       ],
       "layout": {
        "barmode": "relative",
        "legend": {
         "title": {
          "text": "Product_Category_Preference"
         },
         "tracegroupgap": 0
        },
        "template": {
         "data": {
          "bar": [
           {
            "error_x": {
             "color": "#2a3f5f"
            },
            "error_y": {
             "color": "#2a3f5f"
            },
            "marker": {
             "line": {
              "color": "#E5ECF6",
              "width": 0.5
             },
             "pattern": {
              "fillmode": "overlay",
              "size": 10,
              "solidity": 0.2
             }
            },
            "type": "bar"
           }
          ],
          "barpolar": [
           {
            "marker": {
             "line": {
              "color": "#E5ECF6",
              "width": 0.5
             },
             "pattern": {
              "fillmode": "overlay",
              "size": 10,
              "solidity": 0.2
             }
            },
            "type": "barpolar"
           }
          ],
          "carpet": [
           {
            "aaxis": {
             "endlinecolor": "#2a3f5f",
             "gridcolor": "white",
             "linecolor": "white",
             "minorgridcolor": "white",
             "startlinecolor": "#2a3f5f"
            },
            "baxis": {
             "endlinecolor": "#2a3f5f",
             "gridcolor": "white",
             "linecolor": "white",
             "minorgridcolor": "white",
             "startlinecolor": "#2a3f5f"
            },
            "type": "carpet"
           }
          ],
          "choropleth": [
           {
            "colorbar": {
             "outlinewidth": 0,
             "ticks": ""
            },
            "type": "choropleth"
           }
          ],
          "contour": [
           {
            "colorbar": {
             "outlinewidth": 0,
             "ticks": ""
            },
            "colorscale": [
             [
              0,
              "#0d0887"
             ],
             [
              0.1111111111111111,
              "#46039f"
             ],
             [
              0.2222222222222222,
              "#7201a8"
             ],
             [
              0.3333333333333333,
              "#9c179e"
             ],
             [
              0.4444444444444444,
              "#bd3786"
             ],
             [
              0.5555555555555556,
              "#d8576b"
             ],
             [
              0.6666666666666666,
              "#ed7953"
             ],
             [
              0.7777777777777778,
              "#fb9f3a"
             ],
             [
              0.8888888888888888,
              "#fdca26"
             ],
             [
              1,
              "#f0f921"
             ]
            ],
            "type": "contour"
           }
          ],
          "contourcarpet": [
           {
            "colorbar": {
             "outlinewidth": 0,
             "ticks": ""
            },
            "type": "contourcarpet"
           }
          ],
          "heatmap": [
           {
            "colorbar": {
             "outlinewidth": 0,
             "ticks": ""
            },
            "colorscale": [
             [
              0,
              "#0d0887"
             ],
             [
              0.1111111111111111,
              "#46039f"
             ],
             [
              0.2222222222222222,
              "#7201a8"
             ],
             [
              0.3333333333333333,
              "#9c179e"
             ],
             [
              0.4444444444444444,
              "#bd3786"
             ],
             [
              0.5555555555555556,
              "#d8576b"
             ],
             [
              0.6666666666666666,
              "#ed7953"
             ],
             [
              0.7777777777777778,
              "#fb9f3a"
             ],
             [
              0.8888888888888888,
              "#fdca26"
             ],
             [
              1,
              "#f0f921"
             ]
            ],
            "type": "heatmap"
           }
          ],
          "heatmapgl": [
           {
            "colorbar": {
             "outlinewidth": 0,
             "ticks": ""
            },
            "colorscale": [
             [
              0,
              "#0d0887"
             ],
             [
              0.1111111111111111,
              "#46039f"
             ],
             [
              0.2222222222222222,
              "#7201a8"
             ],
             [
              0.3333333333333333,
              "#9c179e"
             ],
             [
              0.4444444444444444,
              "#bd3786"
             ],
             [
              0.5555555555555556,
              "#d8576b"
             ],
             [
              0.6666666666666666,
              "#ed7953"
             ],
             [
              0.7777777777777778,
              "#fb9f3a"
             ],
             [
              0.8888888888888888,
              "#fdca26"
             ],
             [
              1,
              "#f0f921"
             ]
            ],
            "type": "heatmapgl"
           }
          ],
          "histogram": [
           {
            "marker": {
             "pattern": {
              "fillmode": "overlay",
              "size": 10,
              "solidity": 0.2
             }
            },
            "type": "histogram"
           }
          ],
          "histogram2d": [
           {
            "colorbar": {
             "outlinewidth": 0,
             "ticks": ""
            },
            "colorscale": [
             [
              0,
              "#0d0887"
             ],
             [
              0.1111111111111111,
              "#46039f"
             ],
             [
              0.2222222222222222,
              "#7201a8"
             ],
             [
              0.3333333333333333,
              "#9c179e"
             ],
             [
              0.4444444444444444,
              "#bd3786"
             ],
             [
              0.5555555555555556,
              "#d8576b"
             ],
             [
              0.6666666666666666,
              "#ed7953"
             ],
             [
              0.7777777777777778,
              "#fb9f3a"
             ],
             [
              0.8888888888888888,
              "#fdca26"
             ],
             [
              1,
              "#f0f921"
             ]
            ],
            "type": "histogram2d"
           }
          ],
          "histogram2dcontour": [
           {
            "colorbar": {
             "outlinewidth": 0,
             "ticks": ""
            },
            "colorscale": [
             [
              0,
              "#0d0887"
             ],
             [
              0.1111111111111111,
              "#46039f"
             ],
             [
              0.2222222222222222,
              "#7201a8"
             ],
             [
              0.3333333333333333,
              "#9c179e"
             ],
             [
              0.4444444444444444,
              "#bd3786"
             ],
             [
              0.5555555555555556,
              "#d8576b"
             ],
             [
              0.6666666666666666,
              "#ed7953"
             ],
             [
              0.7777777777777778,
              "#fb9f3a"
             ],
             [
              0.8888888888888888,
              "#fdca26"
             ],
             [
              1,
              "#f0f921"
             ]
            ],
            "type": "histogram2dcontour"
           }
          ],
          "mesh3d": [
           {
            "colorbar": {
             "outlinewidth": 0,
             "ticks": ""
            },
            "type": "mesh3d"
           }
          ],
          "parcoords": [
           {
            "line": {
             "colorbar": {
              "outlinewidth": 0,
              "ticks": ""
             }
            },
            "type": "parcoords"
           }
          ],
          "pie": [
           {
            "automargin": true,
            "type": "pie"
           }
          ],
          "scatter": [
           {
            "fillpattern": {
             "fillmode": "overlay",
             "size": 10,
             "solidity": 0.2
            },
            "type": "scatter"
           }
          ],
          "scatter3d": [
           {
            "line": {
             "colorbar": {
              "outlinewidth": 0,
              "ticks": ""
             }
            },
            "marker": {
             "colorbar": {
              "outlinewidth": 0,
              "ticks": ""
             }
            },
            "type": "scatter3d"
           }
          ],
          "scattercarpet": [
           {
            "marker": {
             "colorbar": {
              "outlinewidth": 0,
              "ticks": ""
             }
            },
            "type": "scattercarpet"
           }
          ],
          "scattergeo": [
           {
            "marker": {
             "colorbar": {
              "outlinewidth": 0,
              "ticks": ""
             }
            },
            "type": "scattergeo"
           }
          ],
          "scattergl": [
           {
            "marker": {
             "colorbar": {
              "outlinewidth": 0,
              "ticks": ""
             }
            },
            "type": "scattergl"
           }
          ],
          "scattermapbox": [
           {
            "marker": {
             "colorbar": {
              "outlinewidth": 0,
              "ticks": ""
             }
            },
            "type": "scattermapbox"
           }
          ],
          "scatterpolar": [
           {
            "marker": {
             "colorbar": {
              "outlinewidth": 0,
              "ticks": ""
             }
            },
            "type": "scatterpolar"
           }
          ],
          "scatterpolargl": [
           {
            "marker": {
             "colorbar": {
              "outlinewidth": 0,
              "ticks": ""
             }
            },
            "type": "scatterpolargl"
           }
          ],
          "scatterternary": [
           {
            "marker": {
             "colorbar": {
              "outlinewidth": 0,
              "ticks": ""
             }
            },
            "type": "scatterternary"
           }
          ],
          "surface": [
           {
            "colorbar": {
             "outlinewidth": 0,
             "ticks": ""
            },
            "colorscale": [
             [
              0,
              "#0d0887"
             ],
             [
              0.1111111111111111,
              "#46039f"
             ],
             [
              0.2222222222222222,
              "#7201a8"
             ],
             [
              0.3333333333333333,
              "#9c179e"
             ],
             [
              0.4444444444444444,
              "#bd3786"
             ],
             [
              0.5555555555555556,
              "#d8576b"
             ],
             [
              0.6666666666666666,
              "#ed7953"
             ],
             [
              0.7777777777777778,
              "#fb9f3a"
             ],
             [
              0.8888888888888888,
              "#fdca26"
             ],
             [
              1,
              "#f0f921"
             ]
            ],
            "type": "surface"
           }
          ],
          "table": [
           {
            "cells": {
             "fill": {
              "color": "#EBF0F8"
             },
             "line": {
              "color": "white"
             }
            },
            "header": {
             "fill": {
              "color": "#C8D4E3"
             },
             "line": {
              "color": "white"
             }
            },
            "type": "table"
           }
          ]
         },
         "layout": {
          "annotationdefaults": {
           "arrowcolor": "#2a3f5f",
           "arrowhead": 0,
           "arrowwidth": 1
          },
          "autotypenumbers": "strict",
          "coloraxis": {
           "colorbar": {
            "outlinewidth": 0,
            "ticks": ""
           }
          },
          "colorscale": {
           "diverging": [
            [
             0,
             "#8e0152"
            ],
            [
             0.1,
             "#c51b7d"
            ],
            [
             0.2,
             "#de77ae"
            ],
            [
             0.3,
             "#f1b6da"
            ],
            [
             0.4,
             "#fde0ef"
            ],
            [
             0.5,
             "#f7f7f7"
            ],
            [
             0.6,
             "#e6f5d0"
            ],
            [
             0.7,
             "#b8e186"
            ],
            [
             0.8,
             "#7fbc41"
            ],
            [
             0.9,
             "#4d9221"
            ],
            [
             1,
             "#276419"
            ]
           ],
           "sequential": [
            [
             0,
             "#0d0887"
            ],
            [
             0.1111111111111111,
             "#46039f"
            ],
            [
             0.2222222222222222,
             "#7201a8"
            ],
            [
             0.3333333333333333,
             "#9c179e"
            ],
            [
             0.4444444444444444,
             "#bd3786"
            ],
            [
             0.5555555555555556,
             "#d8576b"
            ],
            [
             0.6666666666666666,
             "#ed7953"
            ],
            [
             0.7777777777777778,
             "#fb9f3a"
            ],
            [
             0.8888888888888888,
             "#fdca26"
            ],
            [
             1,
             "#f0f921"
            ]
           ],
           "sequentialminus": [
            [
             0,
             "#0d0887"
            ],
            [
             0.1111111111111111,
             "#46039f"
            ],
            [
             0.2222222222222222,
             "#7201a8"
            ],
            [
             0.3333333333333333,
             "#9c179e"
            ],
            [
             0.4444444444444444,
             "#bd3786"
            ],
            [
             0.5555555555555556,
             "#d8576b"
            ],
            [
             0.6666666666666666,
             "#ed7953"
            ],
            [
             0.7777777777777778,
             "#fb9f3a"
            ],
            [
             0.8888888888888888,
             "#fdca26"
            ],
            [
             1,
             "#f0f921"
            ]
           ]
          },
          "colorway": [
           "#636efa",
           "#EF553B",
           "#00cc96",
           "#ab63fa",
           "#FFA15A",
           "#19d3f3",
           "#FF6692",
           "#B6E880",
           "#FF97FF",
           "#FECB52"
          ],
          "font": {
           "color": "#2a3f5f"
          },
          "geo": {
           "bgcolor": "white",
           "lakecolor": "white",
           "landcolor": "#E5ECF6",
           "showlakes": true,
           "showland": true,
           "subunitcolor": "white"
          },
          "hoverlabel": {
           "align": "left"
          },
          "hovermode": "closest",
          "mapbox": {
           "style": "light"
          },
          "paper_bgcolor": "white",
          "plot_bgcolor": "#E5ECF6",
          "polar": {
           "angularaxis": {
            "gridcolor": "white",
            "linecolor": "white",
            "ticks": ""
           },
           "bgcolor": "#E5ECF6",
           "radialaxis": {
            "gridcolor": "white",
            "linecolor": "white",
            "ticks": ""
           }
          },
          "scene": {
           "xaxis": {
            "backgroundcolor": "#E5ECF6",
            "gridcolor": "white",
            "gridwidth": 2,
            "linecolor": "white",
            "showbackground": true,
            "ticks": "",
            "zerolinecolor": "white"
           },
           "yaxis": {
            "backgroundcolor": "#E5ECF6",
            "gridcolor": "white",
            "gridwidth": 2,
            "linecolor": "white",
            "showbackground": true,
            "ticks": "",
            "zerolinecolor": "white"
           },
           "zaxis": {
            "backgroundcolor": "#E5ECF6",
            "gridcolor": "white",
            "gridwidth": 2,
            "linecolor": "white",
            "showbackground": true,
            "ticks": "",
            "zerolinecolor": "white"
           }
          },
          "shapedefaults": {
           "line": {
            "color": "#2a3f5f"
           }
          },
          "ternary": {
           "aaxis": {
            "gridcolor": "white",
            "linecolor": "white",
            "ticks": ""
           },
           "baxis": {
            "gridcolor": "white",
            "linecolor": "white",
            "ticks": ""
           },
           "bgcolor": "#E5ECF6",
           "caxis": {
            "gridcolor": "white",
            "linecolor": "white",
            "ticks": ""
           }
          },
          "title": {
           "x": 0.05
          },
          "xaxis": {
           "automargin": true,
           "gridcolor": "white",
           "linecolor": "white",
           "ticks": "",
           "title": {
            "standoff": 15
           },
           "zerolinecolor": "white",
           "zerolinewidth": 2
          },
          "yaxis": {
           "automargin": true,
           "gridcolor": "white",
           "linecolor": "white",
           "ticks": "",
           "title": {
            "standoff": 15
           },
           "zerolinecolor": "white",
           "zerolinewidth": 2
          }
         }
        },
        "title": {
         "text": "Total Revenue per Kategori Produk",
         "x": 0.5
        },
        "xaxis": {
         "anchor": "y",
         "categoryarray": [
          "Apparel",
          "Home & Kitchen",
          "Electronics",
          "Health & Beauty",
          "Books"
         ],
         "categoryorder": "array",
         "domain": [
          0,
          1
         ],
         "title": {
          "text": "Kategori Produk"
         }
        },
        "yaxis": {
         "anchor": "x",
         "domain": [
          0,
          1
         ],
         "title": {
          "text": "Total Revenue (dalam $)"
         }
        }
       }
      }
     },
     "metadata": {},
     "output_type": "display_data"
    }
   ],
   "source": [
    "# menjumlahkan revenue dari masing-masing kategori produk menggunakan fungsi .groupby() dan .sum() lalu diurutkan berdasarkan revenue tertinggi\n",
    "cat_bar = data.groupby('Product_Category_Preference')['Total_Spending'].sum().reset_index()\n",
    "cat_bar = cat_bar.sort_values('Total_Spending', ascending=False)\n",
    "\n",
    "# menampilkan visualisasi diagram bar plotly menggunakan fungsi px.bar()\n",
    "fig = px.bar(cat_bar, x='Product_Category_Preference', y='Total_Spending', \n",
    "             color='Product_Category_Preference',\n",
    "             color_discrete_sequence=['green', 'blue', 'purple', 'brown', 'orange'],\n",
    "             title='Total Revenue per Kategori Produk')\n",
    "\n",
    "# mengubah judul axis x dan y dan beberapa layout menggunakan fungsi .update_layout()\n",
    "fig.update_layout(\n",
    "    xaxis_title= 'Kategori Produk',\n",
    "    yaxis_title= 'Total Revenue (dalam $)',\n",
    "    title_x = 0.5)\n",
    "\n",
    "# menampilkan diagram\n",
    "fig.show()\n"
   ]
  },
  {
   "cell_type": "markdown",
   "metadata": {},
   "source": [
    "Insight:\n",
    "\n",
    "Dari output yang didapatkan, kategori produk Apparel menjadi penghasil revenue terbanyak dan kategori Books menjadi penghasil revenue terendah. Lalu kategori Home & Kitchen dan kategori produk Electronics menjadi penghasil revenue yang hampir setara dengan selisih $14k."
   ]
  },
  {
   "cell_type": "markdown",
   "metadata": {},
   "source": [
    "## Lokasi mana yang memberikan revenue terbanyak?"
   ]
  },
  {
   "cell_type": "markdown",
   "metadata": {},
   "source": [
    "Untuk melihat proporsi lokasi user terhadap total revenue, pertama dilakukan pengelompokkan lokasi user dan menghitung revenue yang dihasilkan berdasarkan masing-masing lokasi, lalu ditampilkan menggunakan diagram pie. Konstruksinya seperti dibawah ini:"
   ]
  },
  {
   "cell_type": "code",
   "execution_count": 65,
   "metadata": {},
   "outputs": [
    {
     "data": {
      "application/vnd.plotly.v1+json": {
       "config": {
        "plotlyServerURL": "https://plot.ly"
       },
       "data": [
        {
         "domain": {
          "x": [
           0,
           1
          ],
          "y": [
           0,
           1
          ]
         },
         "hovertemplate": "Location=%{label}<br>Total_Spending=%{value}<extra></extra>",
         "labels": [
          "Rural",
          "Suburban",
          "Urban"
         ],
         "legendgroup": "",
         "name": "",
         "showlegend": true,
         "type": "pie",
         "values": [
          755341,
          899460,
          898156
         ]
        }
       ],
       "layout": {
        "legend": {
         "tracegroupgap": 0
        },
        "template": {
         "data": {
          "bar": [
           {
            "error_x": {
             "color": "#2a3f5f"
            },
            "error_y": {
             "color": "#2a3f5f"
            },
            "marker": {
             "line": {
              "color": "#E5ECF6",
              "width": 0.5
             },
             "pattern": {
              "fillmode": "overlay",
              "size": 10,
              "solidity": 0.2
             }
            },
            "type": "bar"
           }
          ],
          "barpolar": [
           {
            "marker": {
             "line": {
              "color": "#E5ECF6",
              "width": 0.5
             },
             "pattern": {
              "fillmode": "overlay",
              "size": 10,
              "solidity": 0.2
             }
            },
            "type": "barpolar"
           }
          ],
          "carpet": [
           {
            "aaxis": {
             "endlinecolor": "#2a3f5f",
             "gridcolor": "white",
             "linecolor": "white",
             "minorgridcolor": "white",
             "startlinecolor": "#2a3f5f"
            },
            "baxis": {
             "endlinecolor": "#2a3f5f",
             "gridcolor": "white",
             "linecolor": "white",
             "minorgridcolor": "white",
             "startlinecolor": "#2a3f5f"
            },
            "type": "carpet"
           }
          ],
          "choropleth": [
           {
            "colorbar": {
             "outlinewidth": 0,
             "ticks": ""
            },
            "type": "choropleth"
           }
          ],
          "contour": [
           {
            "colorbar": {
             "outlinewidth": 0,
             "ticks": ""
            },
            "colorscale": [
             [
              0,
              "#0d0887"
             ],
             [
              0.1111111111111111,
              "#46039f"
             ],
             [
              0.2222222222222222,
              "#7201a8"
             ],
             [
              0.3333333333333333,
              "#9c179e"
             ],
             [
              0.4444444444444444,
              "#bd3786"
             ],
             [
              0.5555555555555556,
              "#d8576b"
             ],
             [
              0.6666666666666666,
              "#ed7953"
             ],
             [
              0.7777777777777778,
              "#fb9f3a"
             ],
             [
              0.8888888888888888,
              "#fdca26"
             ],
             [
              1,
              "#f0f921"
             ]
            ],
            "type": "contour"
           }
          ],
          "contourcarpet": [
           {
            "colorbar": {
             "outlinewidth": 0,
             "ticks": ""
            },
            "type": "contourcarpet"
           }
          ],
          "heatmap": [
           {
            "colorbar": {
             "outlinewidth": 0,
             "ticks": ""
            },
            "colorscale": [
             [
              0,
              "#0d0887"
             ],
             [
              0.1111111111111111,
              "#46039f"
             ],
             [
              0.2222222222222222,
              "#7201a8"
             ],
             [
              0.3333333333333333,
              "#9c179e"
             ],
             [
              0.4444444444444444,
              "#bd3786"
             ],
             [
              0.5555555555555556,
              "#d8576b"
             ],
             [
              0.6666666666666666,
              "#ed7953"
             ],
             [
              0.7777777777777778,
              "#fb9f3a"
             ],
             [
              0.8888888888888888,
              "#fdca26"
             ],
             [
              1,
              "#f0f921"
             ]
            ],
            "type": "heatmap"
           }
          ],
          "heatmapgl": [
           {
            "colorbar": {
             "outlinewidth": 0,
             "ticks": ""
            },
            "colorscale": [
             [
              0,
              "#0d0887"
             ],
             [
              0.1111111111111111,
              "#46039f"
             ],
             [
              0.2222222222222222,
              "#7201a8"
             ],
             [
              0.3333333333333333,
              "#9c179e"
             ],
             [
              0.4444444444444444,
              "#bd3786"
             ],
             [
              0.5555555555555556,
              "#d8576b"
             ],
             [
              0.6666666666666666,
              "#ed7953"
             ],
             [
              0.7777777777777778,
              "#fb9f3a"
             ],
             [
              0.8888888888888888,
              "#fdca26"
             ],
             [
              1,
              "#f0f921"
             ]
            ],
            "type": "heatmapgl"
           }
          ],
          "histogram": [
           {
            "marker": {
             "pattern": {
              "fillmode": "overlay",
              "size": 10,
              "solidity": 0.2
             }
            },
            "type": "histogram"
           }
          ],
          "histogram2d": [
           {
            "colorbar": {
             "outlinewidth": 0,
             "ticks": ""
            },
            "colorscale": [
             [
              0,
              "#0d0887"
             ],
             [
              0.1111111111111111,
              "#46039f"
             ],
             [
              0.2222222222222222,
              "#7201a8"
             ],
             [
              0.3333333333333333,
              "#9c179e"
             ],
             [
              0.4444444444444444,
              "#bd3786"
             ],
             [
              0.5555555555555556,
              "#d8576b"
             ],
             [
              0.6666666666666666,
              "#ed7953"
             ],
             [
              0.7777777777777778,
              "#fb9f3a"
             ],
             [
              0.8888888888888888,
              "#fdca26"
             ],
             [
              1,
              "#f0f921"
             ]
            ],
            "type": "histogram2d"
           }
          ],
          "histogram2dcontour": [
           {
            "colorbar": {
             "outlinewidth": 0,
             "ticks": ""
            },
            "colorscale": [
             [
              0,
              "#0d0887"
             ],
             [
              0.1111111111111111,
              "#46039f"
             ],
             [
              0.2222222222222222,
              "#7201a8"
             ],
             [
              0.3333333333333333,
              "#9c179e"
             ],
             [
              0.4444444444444444,
              "#bd3786"
             ],
             [
              0.5555555555555556,
              "#d8576b"
             ],
             [
              0.6666666666666666,
              "#ed7953"
             ],
             [
              0.7777777777777778,
              "#fb9f3a"
             ],
             [
              0.8888888888888888,
              "#fdca26"
             ],
             [
              1,
              "#f0f921"
             ]
            ],
            "type": "histogram2dcontour"
           }
          ],
          "mesh3d": [
           {
            "colorbar": {
             "outlinewidth": 0,
             "ticks": ""
            },
            "type": "mesh3d"
           }
          ],
          "parcoords": [
           {
            "line": {
             "colorbar": {
              "outlinewidth": 0,
              "ticks": ""
             }
            },
            "type": "parcoords"
           }
          ],
          "pie": [
           {
            "automargin": true,
            "type": "pie"
           }
          ],
          "scatter": [
           {
            "fillpattern": {
             "fillmode": "overlay",
             "size": 10,
             "solidity": 0.2
            },
            "type": "scatter"
           }
          ],
          "scatter3d": [
           {
            "line": {
             "colorbar": {
              "outlinewidth": 0,
              "ticks": ""
             }
            },
            "marker": {
             "colorbar": {
              "outlinewidth": 0,
              "ticks": ""
             }
            },
            "type": "scatter3d"
           }
          ],
          "scattercarpet": [
           {
            "marker": {
             "colorbar": {
              "outlinewidth": 0,
              "ticks": ""
             }
            },
            "type": "scattercarpet"
           }
          ],
          "scattergeo": [
           {
            "marker": {
             "colorbar": {
              "outlinewidth": 0,
              "ticks": ""
             }
            },
            "type": "scattergeo"
           }
          ],
          "scattergl": [
           {
            "marker": {
             "colorbar": {
              "outlinewidth": 0,
              "ticks": ""
             }
            },
            "type": "scattergl"
           }
          ],
          "scattermapbox": [
           {
            "marker": {
             "colorbar": {
              "outlinewidth": 0,
              "ticks": ""
             }
            },
            "type": "scattermapbox"
           }
          ],
          "scatterpolar": [
           {
            "marker": {
             "colorbar": {
              "outlinewidth": 0,
              "ticks": ""
             }
            },
            "type": "scatterpolar"
           }
          ],
          "scatterpolargl": [
           {
            "marker": {
             "colorbar": {
              "outlinewidth": 0,
              "ticks": ""
             }
            },
            "type": "scatterpolargl"
           }
          ],
          "scatterternary": [
           {
            "marker": {
             "colorbar": {
              "outlinewidth": 0,
              "ticks": ""
             }
            },
            "type": "scatterternary"
           }
          ],
          "surface": [
           {
            "colorbar": {
             "outlinewidth": 0,
             "ticks": ""
            },
            "colorscale": [
             [
              0,
              "#0d0887"
             ],
             [
              0.1111111111111111,
              "#46039f"
             ],
             [
              0.2222222222222222,
              "#7201a8"
             ],
             [
              0.3333333333333333,
              "#9c179e"
             ],
             [
              0.4444444444444444,
              "#bd3786"
             ],
             [
              0.5555555555555556,
              "#d8576b"
             ],
             [
              0.6666666666666666,
              "#ed7953"
             ],
             [
              0.7777777777777778,
              "#fb9f3a"
             ],
             [
              0.8888888888888888,
              "#fdca26"
             ],
             [
              1,
              "#f0f921"
             ]
            ],
            "type": "surface"
           }
          ],
          "table": [
           {
            "cells": {
             "fill": {
              "color": "#EBF0F8"
             },
             "line": {
              "color": "white"
             }
            },
            "header": {
             "fill": {
              "color": "#C8D4E3"
             },
             "line": {
              "color": "white"
             }
            },
            "type": "table"
           }
          ]
         },
         "layout": {
          "annotationdefaults": {
           "arrowcolor": "#2a3f5f",
           "arrowhead": 0,
           "arrowwidth": 1
          },
          "autotypenumbers": "strict",
          "coloraxis": {
           "colorbar": {
            "outlinewidth": 0,
            "ticks": ""
           }
          },
          "colorscale": {
           "diverging": [
            [
             0,
             "#8e0152"
            ],
            [
             0.1,
             "#c51b7d"
            ],
            [
             0.2,
             "#de77ae"
            ],
            [
             0.3,
             "#f1b6da"
            ],
            [
             0.4,
             "#fde0ef"
            ],
            [
             0.5,
             "#f7f7f7"
            ],
            [
             0.6,
             "#e6f5d0"
            ],
            [
             0.7,
             "#b8e186"
            ],
            [
             0.8,
             "#7fbc41"
            ],
            [
             0.9,
             "#4d9221"
            ],
            [
             1,
             "#276419"
            ]
           ],
           "sequential": [
            [
             0,
             "#0d0887"
            ],
            [
             0.1111111111111111,
             "#46039f"
            ],
            [
             0.2222222222222222,
             "#7201a8"
            ],
            [
             0.3333333333333333,
             "#9c179e"
            ],
            [
             0.4444444444444444,
             "#bd3786"
            ],
            [
             0.5555555555555556,
             "#d8576b"
            ],
            [
             0.6666666666666666,
             "#ed7953"
            ],
            [
             0.7777777777777778,
             "#fb9f3a"
            ],
            [
             0.8888888888888888,
             "#fdca26"
            ],
            [
             1,
             "#f0f921"
            ]
           ],
           "sequentialminus": [
            [
             0,
             "#0d0887"
            ],
            [
             0.1111111111111111,
             "#46039f"
            ],
            [
             0.2222222222222222,
             "#7201a8"
            ],
            [
             0.3333333333333333,
             "#9c179e"
            ],
            [
             0.4444444444444444,
             "#bd3786"
            ],
            [
             0.5555555555555556,
             "#d8576b"
            ],
            [
             0.6666666666666666,
             "#ed7953"
            ],
            [
             0.7777777777777778,
             "#fb9f3a"
            ],
            [
             0.8888888888888888,
             "#fdca26"
            ],
            [
             1,
             "#f0f921"
            ]
           ]
          },
          "colorway": [
           "#636efa",
           "#EF553B",
           "#00cc96",
           "#ab63fa",
           "#FFA15A",
           "#19d3f3",
           "#FF6692",
           "#B6E880",
           "#FF97FF",
           "#FECB52"
          ],
          "font": {
           "color": "#2a3f5f"
          },
          "geo": {
           "bgcolor": "white",
           "lakecolor": "white",
           "landcolor": "#E5ECF6",
           "showlakes": true,
           "showland": true,
           "subunitcolor": "white"
          },
          "hoverlabel": {
           "align": "left"
          },
          "hovermode": "closest",
          "mapbox": {
           "style": "light"
          },
          "paper_bgcolor": "white",
          "plot_bgcolor": "#E5ECF6",
          "polar": {
           "angularaxis": {
            "gridcolor": "white",
            "linecolor": "white",
            "ticks": ""
           },
           "bgcolor": "#E5ECF6",
           "radialaxis": {
            "gridcolor": "white",
            "linecolor": "white",
            "ticks": ""
           }
          },
          "scene": {
           "xaxis": {
            "backgroundcolor": "#E5ECF6",
            "gridcolor": "white",
            "gridwidth": 2,
            "linecolor": "white",
            "showbackground": true,
            "ticks": "",
            "zerolinecolor": "white"
           },
           "yaxis": {
            "backgroundcolor": "#E5ECF6",
            "gridcolor": "white",
            "gridwidth": 2,
            "linecolor": "white",
            "showbackground": true,
            "ticks": "",
            "zerolinecolor": "white"
           },
           "zaxis": {
            "backgroundcolor": "#E5ECF6",
            "gridcolor": "white",
            "gridwidth": 2,
            "linecolor": "white",
            "showbackground": true,
            "ticks": "",
            "zerolinecolor": "white"
           }
          },
          "shapedefaults": {
           "line": {
            "color": "#2a3f5f"
           }
          },
          "ternary": {
           "aaxis": {
            "gridcolor": "white",
            "linecolor": "white",
            "ticks": ""
           },
           "baxis": {
            "gridcolor": "white",
            "linecolor": "white",
            "ticks": ""
           },
           "bgcolor": "#E5ECF6",
           "caxis": {
            "gridcolor": "white",
            "linecolor": "white",
            "ticks": ""
           }
          },
          "title": {
           "x": 0.05
          },
          "xaxis": {
           "automargin": true,
           "gridcolor": "white",
           "linecolor": "white",
           "ticks": "",
           "title": {
            "standoff": 15
           },
           "zerolinecolor": "white",
           "zerolinewidth": 2
          },
          "yaxis": {
           "automargin": true,
           "gridcolor": "white",
           "linecolor": "white",
           "ticks": "",
           "title": {
            "standoff": 15
           },
           "zerolinecolor": "white",
           "zerolinewidth": 2
          }
         }
        },
        "title": {
         "text": "Proporsi Lokasi User yang Menghasilkan Revenue Terbanyak",
         "x": 0.5
        }
       }
      }
     },
     "metadata": {},
     "output_type": "display_data"
    }
   ],
   "source": [
    "# menjumlahkan revenue dari masing-masing lokasi menggunakan fungsi .groupby() dan .sum()\n",
    "loc_pie = data.groupby('Location')['Total_Spending'].sum().reset_index()\n",
    "\n",
    "# menampilkan visualisasi diagram pie plotly menggunakan fungsi px.pie()\n",
    "fig = px.pie(loc_pie, values='Total_Spending', names='Location', title='Proporsi Lokasi User yang Menghasilkan Revenue Terbanyak')\n",
    "\n",
    "# mengubah layout judul menggunakan fungsi .update_layout()\n",
    "fig.update_layout(title_x = 0.5)\n",
    "\n",
    "# menampilkan diagram\n",
    "fig.show()"
   ]
  },
  {
   "cell_type": "markdown",
   "metadata": {},
   "source": [
    "Insight:\n",
    "\n",
    "User yang berasal dari lokasi Suburban dan Urban menjadi penghasil revenue terbanyak sebesar 35.2% . Sedangkan lokasi user yang berada di Rural menghasilkan revenue sebesar 29.6%."
   ]
  },
  {
   "cell_type": "markdown",
   "metadata": {},
   "source": [
    "## Bagaimana proporsi gender terhadap total revenue?"
   ]
  },
  {
   "cell_type": "markdown",
   "metadata": {},
   "source": [
    "Untuk melihat proporsi lokasi gender terhadap total revenue, pertama dilakukan pengelompokkan data gender user dan menghitung revenue yang dihasilkan berdasarkan masing-masing gender, lalu ditampilkan menggunakan diagram pie. Konstruksinya seperti dibawah ini:"
   ]
  },
  {
   "cell_type": "code",
   "execution_count": 66,
   "metadata": {},
   "outputs": [
    {
     "data": {
      "application/vnd.plotly.v1+json": {
       "config": {
        "plotlyServerURL": "https://plot.ly"
       },
       "data": [
        {
         "alignmentgroup": "True",
         "hovertemplate": "Gender=%{y}<br>Total_Spending=%{x}<extra></extra>",
         "legendgroup": "Male",
         "marker": {
          "color": "blue",
          "pattern": {
           "shape": ""
          }
         },
         "name": "Male",
         "offsetgroup": "Male",
         "orientation": "h",
         "showlegend": true,
         "textposition": "auto",
         "type": "bar",
         "x": [
          1310769
         ],
         "xaxis": "x",
         "y": [
          "Male"
         ],
         "yaxis": "y"
        },
        {
         "alignmentgroup": "True",
         "hovertemplate": "Gender=%{y}<br>Total_Spending=%{x}<extra></extra>",
         "legendgroup": "Female",
         "marker": {
          "color": "magenta",
          "pattern": {
           "shape": ""
          }
         },
         "name": "Female",
         "offsetgroup": "Female",
         "orientation": "h",
         "showlegend": true,
         "textposition": "auto",
         "type": "bar",
         "x": [
          1242188
         ],
         "xaxis": "x",
         "y": [
          "Female"
         ],
         "yaxis": "y"
        }
       ],
       "layout": {
        "barmode": "relative",
        "legend": {
         "title": {
          "text": "Gender"
         },
         "tracegroupgap": 0
        },
        "template": {
         "data": {
          "bar": [
           {
            "error_x": {
             "color": "#2a3f5f"
            },
            "error_y": {
             "color": "#2a3f5f"
            },
            "marker": {
             "line": {
              "color": "#E5ECF6",
              "width": 0.5
             },
             "pattern": {
              "fillmode": "overlay",
              "size": 10,
              "solidity": 0.2
             }
            },
            "type": "bar"
           }
          ],
          "barpolar": [
           {
            "marker": {
             "line": {
              "color": "#E5ECF6",
              "width": 0.5
             },
             "pattern": {
              "fillmode": "overlay",
              "size": 10,
              "solidity": 0.2
             }
            },
            "type": "barpolar"
           }
          ],
          "carpet": [
           {
            "aaxis": {
             "endlinecolor": "#2a3f5f",
             "gridcolor": "white",
             "linecolor": "white",
             "minorgridcolor": "white",
             "startlinecolor": "#2a3f5f"
            },
            "baxis": {
             "endlinecolor": "#2a3f5f",
             "gridcolor": "white",
             "linecolor": "white",
             "minorgridcolor": "white",
             "startlinecolor": "#2a3f5f"
            },
            "type": "carpet"
           }
          ],
          "choropleth": [
           {
            "colorbar": {
             "outlinewidth": 0,
             "ticks": ""
            },
            "type": "choropleth"
           }
          ],
          "contour": [
           {
            "colorbar": {
             "outlinewidth": 0,
             "ticks": ""
            },
            "colorscale": [
             [
              0,
              "#0d0887"
             ],
             [
              0.1111111111111111,
              "#46039f"
             ],
             [
              0.2222222222222222,
              "#7201a8"
             ],
             [
              0.3333333333333333,
              "#9c179e"
             ],
             [
              0.4444444444444444,
              "#bd3786"
             ],
             [
              0.5555555555555556,
              "#d8576b"
             ],
             [
              0.6666666666666666,
              "#ed7953"
             ],
             [
              0.7777777777777778,
              "#fb9f3a"
             ],
             [
              0.8888888888888888,
              "#fdca26"
             ],
             [
              1,
              "#f0f921"
             ]
            ],
            "type": "contour"
           }
          ],
          "contourcarpet": [
           {
            "colorbar": {
             "outlinewidth": 0,
             "ticks": ""
            },
            "type": "contourcarpet"
           }
          ],
          "heatmap": [
           {
            "colorbar": {
             "outlinewidth": 0,
             "ticks": ""
            },
            "colorscale": [
             [
              0,
              "#0d0887"
             ],
             [
              0.1111111111111111,
              "#46039f"
             ],
             [
              0.2222222222222222,
              "#7201a8"
             ],
             [
              0.3333333333333333,
              "#9c179e"
             ],
             [
              0.4444444444444444,
              "#bd3786"
             ],
             [
              0.5555555555555556,
              "#d8576b"
             ],
             [
              0.6666666666666666,
              "#ed7953"
             ],
             [
              0.7777777777777778,
              "#fb9f3a"
             ],
             [
              0.8888888888888888,
              "#fdca26"
             ],
             [
              1,
              "#f0f921"
             ]
            ],
            "type": "heatmap"
           }
          ],
          "heatmapgl": [
           {
            "colorbar": {
             "outlinewidth": 0,
             "ticks": ""
            },
            "colorscale": [
             [
              0,
              "#0d0887"
             ],
             [
              0.1111111111111111,
              "#46039f"
             ],
             [
              0.2222222222222222,
              "#7201a8"
             ],
             [
              0.3333333333333333,
              "#9c179e"
             ],
             [
              0.4444444444444444,
              "#bd3786"
             ],
             [
              0.5555555555555556,
              "#d8576b"
             ],
             [
              0.6666666666666666,
              "#ed7953"
             ],
             [
              0.7777777777777778,
              "#fb9f3a"
             ],
             [
              0.8888888888888888,
              "#fdca26"
             ],
             [
              1,
              "#f0f921"
             ]
            ],
            "type": "heatmapgl"
           }
          ],
          "histogram": [
           {
            "marker": {
             "pattern": {
              "fillmode": "overlay",
              "size": 10,
              "solidity": 0.2
             }
            },
            "type": "histogram"
           }
          ],
          "histogram2d": [
           {
            "colorbar": {
             "outlinewidth": 0,
             "ticks": ""
            },
            "colorscale": [
             [
              0,
              "#0d0887"
             ],
             [
              0.1111111111111111,
              "#46039f"
             ],
             [
              0.2222222222222222,
              "#7201a8"
             ],
             [
              0.3333333333333333,
              "#9c179e"
             ],
             [
              0.4444444444444444,
              "#bd3786"
             ],
             [
              0.5555555555555556,
              "#d8576b"
             ],
             [
              0.6666666666666666,
              "#ed7953"
             ],
             [
              0.7777777777777778,
              "#fb9f3a"
             ],
             [
              0.8888888888888888,
              "#fdca26"
             ],
             [
              1,
              "#f0f921"
             ]
            ],
            "type": "histogram2d"
           }
          ],
          "histogram2dcontour": [
           {
            "colorbar": {
             "outlinewidth": 0,
             "ticks": ""
            },
            "colorscale": [
             [
              0,
              "#0d0887"
             ],
             [
              0.1111111111111111,
              "#46039f"
             ],
             [
              0.2222222222222222,
              "#7201a8"
             ],
             [
              0.3333333333333333,
              "#9c179e"
             ],
             [
              0.4444444444444444,
              "#bd3786"
             ],
             [
              0.5555555555555556,
              "#d8576b"
             ],
             [
              0.6666666666666666,
              "#ed7953"
             ],
             [
              0.7777777777777778,
              "#fb9f3a"
             ],
             [
              0.8888888888888888,
              "#fdca26"
             ],
             [
              1,
              "#f0f921"
             ]
            ],
            "type": "histogram2dcontour"
           }
          ],
          "mesh3d": [
           {
            "colorbar": {
             "outlinewidth": 0,
             "ticks": ""
            },
            "type": "mesh3d"
           }
          ],
          "parcoords": [
           {
            "line": {
             "colorbar": {
              "outlinewidth": 0,
              "ticks": ""
             }
            },
            "type": "parcoords"
           }
          ],
          "pie": [
           {
            "automargin": true,
            "type": "pie"
           }
          ],
          "scatter": [
           {
            "fillpattern": {
             "fillmode": "overlay",
             "size": 10,
             "solidity": 0.2
            },
            "type": "scatter"
           }
          ],
          "scatter3d": [
           {
            "line": {
             "colorbar": {
              "outlinewidth": 0,
              "ticks": ""
             }
            },
            "marker": {
             "colorbar": {
              "outlinewidth": 0,
              "ticks": ""
             }
            },
            "type": "scatter3d"
           }
          ],
          "scattercarpet": [
           {
            "marker": {
             "colorbar": {
              "outlinewidth": 0,
              "ticks": ""
             }
            },
            "type": "scattercarpet"
           }
          ],
          "scattergeo": [
           {
            "marker": {
             "colorbar": {
              "outlinewidth": 0,
              "ticks": ""
             }
            },
            "type": "scattergeo"
           }
          ],
          "scattergl": [
           {
            "marker": {
             "colorbar": {
              "outlinewidth": 0,
              "ticks": ""
             }
            },
            "type": "scattergl"
           }
          ],
          "scattermapbox": [
           {
            "marker": {
             "colorbar": {
              "outlinewidth": 0,
              "ticks": ""
             }
            },
            "type": "scattermapbox"
           }
          ],
          "scatterpolar": [
           {
            "marker": {
             "colorbar": {
              "outlinewidth": 0,
              "ticks": ""
             }
            },
            "type": "scatterpolar"
           }
          ],
          "scatterpolargl": [
           {
            "marker": {
             "colorbar": {
              "outlinewidth": 0,
              "ticks": ""
             }
            },
            "type": "scatterpolargl"
           }
          ],
          "scatterternary": [
           {
            "marker": {
             "colorbar": {
              "outlinewidth": 0,
              "ticks": ""
             }
            },
            "type": "scatterternary"
           }
          ],
          "surface": [
           {
            "colorbar": {
             "outlinewidth": 0,
             "ticks": ""
            },
            "colorscale": [
             [
              0,
              "#0d0887"
             ],
             [
              0.1111111111111111,
              "#46039f"
             ],
             [
              0.2222222222222222,
              "#7201a8"
             ],
             [
              0.3333333333333333,
              "#9c179e"
             ],
             [
              0.4444444444444444,
              "#bd3786"
             ],
             [
              0.5555555555555556,
              "#d8576b"
             ],
             [
              0.6666666666666666,
              "#ed7953"
             ],
             [
              0.7777777777777778,
              "#fb9f3a"
             ],
             [
              0.8888888888888888,
              "#fdca26"
             ],
             [
              1,
              "#f0f921"
             ]
            ],
            "type": "surface"
           }
          ],
          "table": [
           {
            "cells": {
             "fill": {
              "color": "#EBF0F8"
             },
             "line": {
              "color": "white"
             }
            },
            "header": {
             "fill": {
              "color": "#C8D4E3"
             },
             "line": {
              "color": "white"
             }
            },
            "type": "table"
           }
          ]
         },
         "layout": {
          "annotationdefaults": {
           "arrowcolor": "#2a3f5f",
           "arrowhead": 0,
           "arrowwidth": 1
          },
          "autotypenumbers": "strict",
          "coloraxis": {
           "colorbar": {
            "outlinewidth": 0,
            "ticks": ""
           }
          },
          "colorscale": {
           "diverging": [
            [
             0,
             "#8e0152"
            ],
            [
             0.1,
             "#c51b7d"
            ],
            [
             0.2,
             "#de77ae"
            ],
            [
             0.3,
             "#f1b6da"
            ],
            [
             0.4,
             "#fde0ef"
            ],
            [
             0.5,
             "#f7f7f7"
            ],
            [
             0.6,
             "#e6f5d0"
            ],
            [
             0.7,
             "#b8e186"
            ],
            [
             0.8,
             "#7fbc41"
            ],
            [
             0.9,
             "#4d9221"
            ],
            [
             1,
             "#276419"
            ]
           ],
           "sequential": [
            [
             0,
             "#0d0887"
            ],
            [
             0.1111111111111111,
             "#46039f"
            ],
            [
             0.2222222222222222,
             "#7201a8"
            ],
            [
             0.3333333333333333,
             "#9c179e"
            ],
            [
             0.4444444444444444,
             "#bd3786"
            ],
            [
             0.5555555555555556,
             "#d8576b"
            ],
            [
             0.6666666666666666,
             "#ed7953"
            ],
            [
             0.7777777777777778,
             "#fb9f3a"
            ],
            [
             0.8888888888888888,
             "#fdca26"
            ],
            [
             1,
             "#f0f921"
            ]
           ],
           "sequentialminus": [
            [
             0,
             "#0d0887"
            ],
            [
             0.1111111111111111,
             "#46039f"
            ],
            [
             0.2222222222222222,
             "#7201a8"
            ],
            [
             0.3333333333333333,
             "#9c179e"
            ],
            [
             0.4444444444444444,
             "#bd3786"
            ],
            [
             0.5555555555555556,
             "#d8576b"
            ],
            [
             0.6666666666666666,
             "#ed7953"
            ],
            [
             0.7777777777777778,
             "#fb9f3a"
            ],
            [
             0.8888888888888888,
             "#fdca26"
            ],
            [
             1,
             "#f0f921"
            ]
           ]
          },
          "colorway": [
           "#636efa",
           "#EF553B",
           "#00cc96",
           "#ab63fa",
           "#FFA15A",
           "#19d3f3",
           "#FF6692",
           "#B6E880",
           "#FF97FF",
           "#FECB52"
          ],
          "font": {
           "color": "#2a3f5f"
          },
          "geo": {
           "bgcolor": "white",
           "lakecolor": "white",
           "landcolor": "#E5ECF6",
           "showlakes": true,
           "showland": true,
           "subunitcolor": "white"
          },
          "hoverlabel": {
           "align": "left"
          },
          "hovermode": "closest",
          "mapbox": {
           "style": "light"
          },
          "paper_bgcolor": "white",
          "plot_bgcolor": "#E5ECF6",
          "polar": {
           "angularaxis": {
            "gridcolor": "white",
            "linecolor": "white",
            "ticks": ""
           },
           "bgcolor": "#E5ECF6",
           "radialaxis": {
            "gridcolor": "white",
            "linecolor": "white",
            "ticks": ""
           }
          },
          "scene": {
           "xaxis": {
            "backgroundcolor": "#E5ECF6",
            "gridcolor": "white",
            "gridwidth": 2,
            "linecolor": "white",
            "showbackground": true,
            "ticks": "",
            "zerolinecolor": "white"
           },
           "yaxis": {
            "backgroundcolor": "#E5ECF6",
            "gridcolor": "white",
            "gridwidth": 2,
            "linecolor": "white",
            "showbackground": true,
            "ticks": "",
            "zerolinecolor": "white"
           },
           "zaxis": {
            "backgroundcolor": "#E5ECF6",
            "gridcolor": "white",
            "gridwidth": 2,
            "linecolor": "white",
            "showbackground": true,
            "ticks": "",
            "zerolinecolor": "white"
           }
          },
          "shapedefaults": {
           "line": {
            "color": "#2a3f5f"
           }
          },
          "ternary": {
           "aaxis": {
            "gridcolor": "white",
            "linecolor": "white",
            "ticks": ""
           },
           "baxis": {
            "gridcolor": "white",
            "linecolor": "white",
            "ticks": ""
           },
           "bgcolor": "#E5ECF6",
           "caxis": {
            "gridcolor": "white",
            "linecolor": "white",
            "ticks": ""
           }
          },
          "title": {
           "x": 0.05
          },
          "xaxis": {
           "automargin": true,
           "gridcolor": "white",
           "linecolor": "white",
           "ticks": "",
           "title": {
            "standoff": 15
           },
           "zerolinecolor": "white",
           "zerolinewidth": 2
          },
          "yaxis": {
           "automargin": true,
           "gridcolor": "white",
           "linecolor": "white",
           "ticks": "",
           "title": {
            "standoff": 15
           },
           "zerolinecolor": "white",
           "zerolinewidth": 2
          }
         }
        },
        "title": {
         "text": "Proporsi Gender User dari Total_Spending",
         "x": 0.5
        },
        "xaxis": {
         "anchor": "y",
         "domain": [
          0,
          1
         ],
         "title": {
          "text": "Total Revenue (dalam $)"
         }
        },
        "yaxis": {
         "anchor": "x",
         "categoryarray": [
          "Female",
          "Male"
         ],
         "categoryorder": "array",
         "domain": [
          0,
          1
         ],
         "title": {
          "text": "Gender"
         }
        }
       }
      }
     },
     "metadata": {},
     "output_type": "display_data"
    }
   ],
   "source": [
    "# menjumlahkan revenue dari masing-masing gender menggunakan fungsi .groupby() dan .sum() lalu diurutkan berdasarkan revenue tertinggi\n",
    "gen_barh = data.groupby('Gender')['Total_Spending'].sum().reset_index()\n",
    "gen_barh = gen_barh.sort_values('Total_Spending', ascending=False)\n",
    "\n",
    "# menampilkan visualisasi diagram bar plotly menggunakan fungsi px.bar()\n",
    "fig = px.bar(gen_barh, x='Total_Spending', y='Gender',\n",
    "             color='Gender',\n",
    "             color_discrete_sequence=['blue', 'magenta'],\n",
    "             title='Proporsi Gender User dari Total_Spending',\n",
    "             orientation='h')\n",
    "\n",
    "# mengubah judul axis x dan beberapa layout menggunakan fungsi .update_layout()\n",
    "fig.update_layout(\n",
    "    xaxis_title='Total Revenue (dalam $)')\n",
    "fig.update_layout(title_x = 0.5)\n",
    "\n",
    "# menampilkan diagram\n",
    "fig.show()"
   ]
  },
  {
   "cell_type": "markdown",
   "metadata": {},
   "source": [
    "Insight:\n",
    "\n",
    "User pria menjadi penghasil revenue terbanyak dibandingkan user wanita, tetapi perbedaannya tidak signifikan, sebesar 5,23%."
   ]
  },
  {
   "cell_type": "markdown",
   "metadata": {},
   "source": [
    "## Bagaimana proporsi kategori usia user berdasarkan total revenue?"
   ]
  },
  {
   "cell_type": "markdown",
   "metadata": {},
   "source": [
    "Untuk melihat proporsi kategori usia user terhadap total revenue, pertama dilakukan pengelompokkan kategori usia dan menghitung revenue yang dihasilkan berdasarkan masing-masing kategori usia, lalu ditampilkan menggunakan diagram pie. Konstruksinya seperti dibawah ini:"
   ]
  },
  {
   "cell_type": "code",
   "execution_count": 67,
   "metadata": {},
   "outputs": [
    {
     "data": {
      "application/vnd.plotly.v1+json": {
       "config": {
        "plotlyServerURL": "https://plot.ly"
       },
       "data": [
        {
         "domain": {
          "x": [
           0,
           1
          ],
          "y": [
           0,
           1
          ]
         },
         "hovertemplate": "Age_Category=%{label}<br>Total_Spending=%{value}<extra></extra>",
         "labels": [
          "18-24 Tahun",
          "25-34 Tahun",
          "35-44 Tahun",
          "45-54 Tahun",
          "55-64 Tahun"
         ],
         "legendgroup": "",
         "name": "",
         "showlegend": true,
         "type": "pie",
         "values": [
          389077,
          502752,
          554550,
          601846,
          504732
         ]
        }
       ],
       "layout": {
        "legend": {
         "tracegroupgap": 0
        },
        "template": {
         "data": {
          "bar": [
           {
            "error_x": {
             "color": "#2a3f5f"
            },
            "error_y": {
             "color": "#2a3f5f"
            },
            "marker": {
             "line": {
              "color": "#E5ECF6",
              "width": 0.5
             },
             "pattern": {
              "fillmode": "overlay",
              "size": 10,
              "solidity": 0.2
             }
            },
            "type": "bar"
           }
          ],
          "barpolar": [
           {
            "marker": {
             "line": {
              "color": "#E5ECF6",
              "width": 0.5
             },
             "pattern": {
              "fillmode": "overlay",
              "size": 10,
              "solidity": 0.2
             }
            },
            "type": "barpolar"
           }
          ],
          "carpet": [
           {
            "aaxis": {
             "endlinecolor": "#2a3f5f",
             "gridcolor": "white",
             "linecolor": "white",
             "minorgridcolor": "white",
             "startlinecolor": "#2a3f5f"
            },
            "baxis": {
             "endlinecolor": "#2a3f5f",
             "gridcolor": "white",
             "linecolor": "white",
             "minorgridcolor": "white",
             "startlinecolor": "#2a3f5f"
            },
            "type": "carpet"
           }
          ],
          "choropleth": [
           {
            "colorbar": {
             "outlinewidth": 0,
             "ticks": ""
            },
            "type": "choropleth"
           }
          ],
          "contour": [
           {
            "colorbar": {
             "outlinewidth": 0,
             "ticks": ""
            },
            "colorscale": [
             [
              0,
              "#0d0887"
             ],
             [
              0.1111111111111111,
              "#46039f"
             ],
             [
              0.2222222222222222,
              "#7201a8"
             ],
             [
              0.3333333333333333,
              "#9c179e"
             ],
             [
              0.4444444444444444,
              "#bd3786"
             ],
             [
              0.5555555555555556,
              "#d8576b"
             ],
             [
              0.6666666666666666,
              "#ed7953"
             ],
             [
              0.7777777777777778,
              "#fb9f3a"
             ],
             [
              0.8888888888888888,
              "#fdca26"
             ],
             [
              1,
              "#f0f921"
             ]
            ],
            "type": "contour"
           }
          ],
          "contourcarpet": [
           {
            "colorbar": {
             "outlinewidth": 0,
             "ticks": ""
            },
            "type": "contourcarpet"
           }
          ],
          "heatmap": [
           {
            "colorbar": {
             "outlinewidth": 0,
             "ticks": ""
            },
            "colorscale": [
             [
              0,
              "#0d0887"
             ],
             [
              0.1111111111111111,
              "#46039f"
             ],
             [
              0.2222222222222222,
              "#7201a8"
             ],
             [
              0.3333333333333333,
              "#9c179e"
             ],
             [
              0.4444444444444444,
              "#bd3786"
             ],
             [
              0.5555555555555556,
              "#d8576b"
             ],
             [
              0.6666666666666666,
              "#ed7953"
             ],
             [
              0.7777777777777778,
              "#fb9f3a"
             ],
             [
              0.8888888888888888,
              "#fdca26"
             ],
             [
              1,
              "#f0f921"
             ]
            ],
            "type": "heatmap"
           }
          ],
          "heatmapgl": [
           {
            "colorbar": {
             "outlinewidth": 0,
             "ticks": ""
            },
            "colorscale": [
             [
              0,
              "#0d0887"
             ],
             [
              0.1111111111111111,
              "#46039f"
             ],
             [
              0.2222222222222222,
              "#7201a8"
             ],
             [
              0.3333333333333333,
              "#9c179e"
             ],
             [
              0.4444444444444444,
              "#bd3786"
             ],
             [
              0.5555555555555556,
              "#d8576b"
             ],
             [
              0.6666666666666666,
              "#ed7953"
             ],
             [
              0.7777777777777778,
              "#fb9f3a"
             ],
             [
              0.8888888888888888,
              "#fdca26"
             ],
             [
              1,
              "#f0f921"
             ]
            ],
            "type": "heatmapgl"
           }
          ],
          "histogram": [
           {
            "marker": {
             "pattern": {
              "fillmode": "overlay",
              "size": 10,
              "solidity": 0.2
             }
            },
            "type": "histogram"
           }
          ],
          "histogram2d": [
           {
            "colorbar": {
             "outlinewidth": 0,
             "ticks": ""
            },
            "colorscale": [
             [
              0,
              "#0d0887"
             ],
             [
              0.1111111111111111,
              "#46039f"
             ],
             [
              0.2222222222222222,
              "#7201a8"
             ],
             [
              0.3333333333333333,
              "#9c179e"
             ],
             [
              0.4444444444444444,
              "#bd3786"
             ],
             [
              0.5555555555555556,
              "#d8576b"
             ],
             [
              0.6666666666666666,
              "#ed7953"
             ],
             [
              0.7777777777777778,
              "#fb9f3a"
             ],
             [
              0.8888888888888888,
              "#fdca26"
             ],
             [
              1,
              "#f0f921"
             ]
            ],
            "type": "histogram2d"
           }
          ],
          "histogram2dcontour": [
           {
            "colorbar": {
             "outlinewidth": 0,
             "ticks": ""
            },
            "colorscale": [
             [
              0,
              "#0d0887"
             ],
             [
              0.1111111111111111,
              "#46039f"
             ],
             [
              0.2222222222222222,
              "#7201a8"
             ],
             [
              0.3333333333333333,
              "#9c179e"
             ],
             [
              0.4444444444444444,
              "#bd3786"
             ],
             [
              0.5555555555555556,
              "#d8576b"
             ],
             [
              0.6666666666666666,
              "#ed7953"
             ],
             [
              0.7777777777777778,
              "#fb9f3a"
             ],
             [
              0.8888888888888888,
              "#fdca26"
             ],
             [
              1,
              "#f0f921"
             ]
            ],
            "type": "histogram2dcontour"
           }
          ],
          "mesh3d": [
           {
            "colorbar": {
             "outlinewidth": 0,
             "ticks": ""
            },
            "type": "mesh3d"
           }
          ],
          "parcoords": [
           {
            "line": {
             "colorbar": {
              "outlinewidth": 0,
              "ticks": ""
             }
            },
            "type": "parcoords"
           }
          ],
          "pie": [
           {
            "automargin": true,
            "type": "pie"
           }
          ],
          "scatter": [
           {
            "fillpattern": {
             "fillmode": "overlay",
             "size": 10,
             "solidity": 0.2
            },
            "type": "scatter"
           }
          ],
          "scatter3d": [
           {
            "line": {
             "colorbar": {
              "outlinewidth": 0,
              "ticks": ""
             }
            },
            "marker": {
             "colorbar": {
              "outlinewidth": 0,
              "ticks": ""
             }
            },
            "type": "scatter3d"
           }
          ],
          "scattercarpet": [
           {
            "marker": {
             "colorbar": {
              "outlinewidth": 0,
              "ticks": ""
             }
            },
            "type": "scattercarpet"
           }
          ],
          "scattergeo": [
           {
            "marker": {
             "colorbar": {
              "outlinewidth": 0,
              "ticks": ""
             }
            },
            "type": "scattergeo"
           }
          ],
          "scattergl": [
           {
            "marker": {
             "colorbar": {
              "outlinewidth": 0,
              "ticks": ""
             }
            },
            "type": "scattergl"
           }
          ],
          "scattermapbox": [
           {
            "marker": {
             "colorbar": {
              "outlinewidth": 0,
              "ticks": ""
             }
            },
            "type": "scattermapbox"
           }
          ],
          "scatterpolar": [
           {
            "marker": {
             "colorbar": {
              "outlinewidth": 0,
              "ticks": ""
             }
            },
            "type": "scatterpolar"
           }
          ],
          "scatterpolargl": [
           {
            "marker": {
             "colorbar": {
              "outlinewidth": 0,
              "ticks": ""
             }
            },
            "type": "scatterpolargl"
           }
          ],
          "scatterternary": [
           {
            "marker": {
             "colorbar": {
              "outlinewidth": 0,
              "ticks": ""
             }
            },
            "type": "scatterternary"
           }
          ],
          "surface": [
           {
            "colorbar": {
             "outlinewidth": 0,
             "ticks": ""
            },
            "colorscale": [
             [
              0,
              "#0d0887"
             ],
             [
              0.1111111111111111,
              "#46039f"
             ],
             [
              0.2222222222222222,
              "#7201a8"
             ],
             [
              0.3333333333333333,
              "#9c179e"
             ],
             [
              0.4444444444444444,
              "#bd3786"
             ],
             [
              0.5555555555555556,
              "#d8576b"
             ],
             [
              0.6666666666666666,
              "#ed7953"
             ],
             [
              0.7777777777777778,
              "#fb9f3a"
             ],
             [
              0.8888888888888888,
              "#fdca26"
             ],
             [
              1,
              "#f0f921"
             ]
            ],
            "type": "surface"
           }
          ],
          "table": [
           {
            "cells": {
             "fill": {
              "color": "#EBF0F8"
             },
             "line": {
              "color": "white"
             }
            },
            "header": {
             "fill": {
              "color": "#C8D4E3"
             },
             "line": {
              "color": "white"
             }
            },
            "type": "table"
           }
          ]
         },
         "layout": {
          "annotationdefaults": {
           "arrowcolor": "#2a3f5f",
           "arrowhead": 0,
           "arrowwidth": 1
          },
          "autotypenumbers": "strict",
          "coloraxis": {
           "colorbar": {
            "outlinewidth": 0,
            "ticks": ""
           }
          },
          "colorscale": {
           "diverging": [
            [
             0,
             "#8e0152"
            ],
            [
             0.1,
             "#c51b7d"
            ],
            [
             0.2,
             "#de77ae"
            ],
            [
             0.3,
             "#f1b6da"
            ],
            [
             0.4,
             "#fde0ef"
            ],
            [
             0.5,
             "#f7f7f7"
            ],
            [
             0.6,
             "#e6f5d0"
            ],
            [
             0.7,
             "#b8e186"
            ],
            [
             0.8,
             "#7fbc41"
            ],
            [
             0.9,
             "#4d9221"
            ],
            [
             1,
             "#276419"
            ]
           ],
           "sequential": [
            [
             0,
             "#0d0887"
            ],
            [
             0.1111111111111111,
             "#46039f"
            ],
            [
             0.2222222222222222,
             "#7201a8"
            ],
            [
             0.3333333333333333,
             "#9c179e"
            ],
            [
             0.4444444444444444,
             "#bd3786"
            ],
            [
             0.5555555555555556,
             "#d8576b"
            ],
            [
             0.6666666666666666,
             "#ed7953"
            ],
            [
             0.7777777777777778,
             "#fb9f3a"
            ],
            [
             0.8888888888888888,
             "#fdca26"
            ],
            [
             1,
             "#f0f921"
            ]
           ],
           "sequentialminus": [
            [
             0,
             "#0d0887"
            ],
            [
             0.1111111111111111,
             "#46039f"
            ],
            [
             0.2222222222222222,
             "#7201a8"
            ],
            [
             0.3333333333333333,
             "#9c179e"
            ],
            [
             0.4444444444444444,
             "#bd3786"
            ],
            [
             0.5555555555555556,
             "#d8576b"
            ],
            [
             0.6666666666666666,
             "#ed7953"
            ],
            [
             0.7777777777777778,
             "#fb9f3a"
            ],
            [
             0.8888888888888888,
             "#fdca26"
            ],
            [
             1,
             "#f0f921"
            ]
           ]
          },
          "colorway": [
           "#636efa",
           "#EF553B",
           "#00cc96",
           "#ab63fa",
           "#FFA15A",
           "#19d3f3",
           "#FF6692",
           "#B6E880",
           "#FF97FF",
           "#FECB52"
          ],
          "font": {
           "color": "#2a3f5f"
          },
          "geo": {
           "bgcolor": "white",
           "lakecolor": "white",
           "landcolor": "#E5ECF6",
           "showlakes": true,
           "showland": true,
           "subunitcolor": "white"
          },
          "hoverlabel": {
           "align": "left"
          },
          "hovermode": "closest",
          "mapbox": {
           "style": "light"
          },
          "paper_bgcolor": "white",
          "plot_bgcolor": "#E5ECF6",
          "polar": {
           "angularaxis": {
            "gridcolor": "white",
            "linecolor": "white",
            "ticks": ""
           },
           "bgcolor": "#E5ECF6",
           "radialaxis": {
            "gridcolor": "white",
            "linecolor": "white",
            "ticks": ""
           }
          },
          "scene": {
           "xaxis": {
            "backgroundcolor": "#E5ECF6",
            "gridcolor": "white",
            "gridwidth": 2,
            "linecolor": "white",
            "showbackground": true,
            "ticks": "",
            "zerolinecolor": "white"
           },
           "yaxis": {
            "backgroundcolor": "#E5ECF6",
            "gridcolor": "white",
            "gridwidth": 2,
            "linecolor": "white",
            "showbackground": true,
            "ticks": "",
            "zerolinecolor": "white"
           },
           "zaxis": {
            "backgroundcolor": "#E5ECF6",
            "gridcolor": "white",
            "gridwidth": 2,
            "linecolor": "white",
            "showbackground": true,
            "ticks": "",
            "zerolinecolor": "white"
           }
          },
          "shapedefaults": {
           "line": {
            "color": "#2a3f5f"
           }
          },
          "ternary": {
           "aaxis": {
            "gridcolor": "white",
            "linecolor": "white",
            "ticks": ""
           },
           "baxis": {
            "gridcolor": "white",
            "linecolor": "white",
            "ticks": ""
           },
           "bgcolor": "#E5ECF6",
           "caxis": {
            "gridcolor": "white",
            "linecolor": "white",
            "ticks": ""
           }
          },
          "title": {
           "x": 0.05
          },
          "xaxis": {
           "automargin": true,
           "gridcolor": "white",
           "linecolor": "white",
           "ticks": "",
           "title": {
            "standoff": 15
           },
           "zerolinecolor": "white",
           "zerolinewidth": 2
          },
          "yaxis": {
           "automargin": true,
           "gridcolor": "white",
           "linecolor": "white",
           "ticks": "",
           "title": {
            "standoff": 15
           },
           "zerolinecolor": "white",
           "zerolinewidth": 2
          }
         }
        },
        "title": {
         "text": "Proporsi Kategori Usia User dari Total Revenue",
         "x": 0.5
        }
       }
      }
     },
     "metadata": {},
     "output_type": "display_data"
    }
   ],
   "source": [
    "# menjumlahkan revenue dari masing-masing kategori usia menggunakan fungsi .groupby() dan .sum()\n",
    "age_pie = data.groupby('Age_Category')['Total_Spending'].sum().reset_index()\n",
    "\n",
    "# menampilkan visualisasi diagram bar plotly menggunakan fungsi px.bar()\n",
    "fig = px.pie(age_pie, values='Total_Spending', names='Age_Category', title='Proporsi Kategori Usia User dari Total Revenue')\n",
    "\n",
    "# mengubah layout judul menggunakan fungsi .update_layout()\n",
    "fig.update_layout(title_x = 0.5)\n",
    "\n",
    "# menampilkan diagram\n",
    "fig.show()"
   ]
  },
  {
   "cell_type": "markdown",
   "metadata": {},
   "source": [
    "Insight:\n",
    "\n",
    "- User dengan rentang usia 18-24 tahun menghasilkan revenue paling rendah, asumsinya usia tersebut masih dalam usia pendidikan\n",
    "- User dengan rentang usia 25-34 tahun dan 55-64 tahun menghasilkan revenue yang hampir sama, asumsinya usia tersebut merupakan usia yang belum terlalu stabil secara finansial atau sudah tidak produktif lagi\n",
    "- User dengan rentnag usia 35-44 tahun dan 45-54 tahun memberikan porsi terbanyak dalam total revenue, asumsinya user dalam rentang usia tersebut sudah stabil secara finansial"
   ]
  },
  {
   "cell_type": "markdown",
   "metadata": {},
   "source": [
    "## Berapa jumlah user yang subscribe newsletter dan tidak subscribe? "
   ]
  },
  {
   "cell_type": "code",
   "execution_count": 68,
   "metadata": {},
   "outputs": [
    {
     "data": {
      "application/vnd.plotly.v1+json": {
       "config": {
        "plotlyServerURL": "https://plot.ly"
       },
       "data": [
        {
         "alignmentgroup": "True",
         "hovertemplate": "Newsletter_Subscription=%{y}<br>User_ID=%{x}<extra></extra>",
         "legendgroup": "True",
         "marker": {
          "color": "green",
          "pattern": {
           "shape": ""
          }
         },
         "name": "True",
         "offsetgroup": "True",
         "orientation": "h",
         "showlegend": true,
         "textposition": "auto",
         "type": "bar",
         "x": [
          507
         ],
         "xaxis": "x",
         "y": [
          true
         ],
         "yaxis": "y"
        },
        {
         "alignmentgroup": "True",
         "hovertemplate": "Newsletter_Subscription=%{y}<br>User_ID=%{x}<extra></extra>",
         "legendgroup": "False",
         "marker": {
          "color": "red",
          "pattern": {
           "shape": ""
          }
         },
         "name": "False",
         "offsetgroup": "False",
         "orientation": "h",
         "showlegend": true,
         "textposition": "auto",
         "type": "bar",
         "x": [
          493
         ],
         "xaxis": "x",
         "y": [
          false
         ],
         "yaxis": "y"
        }
       ],
       "layout": {
        "barmode": "relative",
        "legend": {
         "title": {
          "text": "Newsletter_Subscription"
         },
         "tracegroupgap": 0
        },
        "template": {
         "data": {
          "bar": [
           {
            "error_x": {
             "color": "#2a3f5f"
            },
            "error_y": {
             "color": "#2a3f5f"
            },
            "marker": {
             "line": {
              "color": "#E5ECF6",
              "width": 0.5
             },
             "pattern": {
              "fillmode": "overlay",
              "size": 10,
              "solidity": 0.2
             }
            },
            "type": "bar"
           }
          ],
          "barpolar": [
           {
            "marker": {
             "line": {
              "color": "#E5ECF6",
              "width": 0.5
             },
             "pattern": {
              "fillmode": "overlay",
              "size": 10,
              "solidity": 0.2
             }
            },
            "type": "barpolar"
           }
          ],
          "carpet": [
           {
            "aaxis": {
             "endlinecolor": "#2a3f5f",
             "gridcolor": "white",
             "linecolor": "white",
             "minorgridcolor": "white",
             "startlinecolor": "#2a3f5f"
            },
            "baxis": {
             "endlinecolor": "#2a3f5f",
             "gridcolor": "white",
             "linecolor": "white",
             "minorgridcolor": "white",
             "startlinecolor": "#2a3f5f"
            },
            "type": "carpet"
           }
          ],
          "choropleth": [
           {
            "colorbar": {
             "outlinewidth": 0,
             "ticks": ""
            },
            "type": "choropleth"
           }
          ],
          "contour": [
           {
            "colorbar": {
             "outlinewidth": 0,
             "ticks": ""
            },
            "colorscale": [
             [
              0,
              "#0d0887"
             ],
             [
              0.1111111111111111,
              "#46039f"
             ],
             [
              0.2222222222222222,
              "#7201a8"
             ],
             [
              0.3333333333333333,
              "#9c179e"
             ],
             [
              0.4444444444444444,
              "#bd3786"
             ],
             [
              0.5555555555555556,
              "#d8576b"
             ],
             [
              0.6666666666666666,
              "#ed7953"
             ],
             [
              0.7777777777777778,
              "#fb9f3a"
             ],
             [
              0.8888888888888888,
              "#fdca26"
             ],
             [
              1,
              "#f0f921"
             ]
            ],
            "type": "contour"
           }
          ],
          "contourcarpet": [
           {
            "colorbar": {
             "outlinewidth": 0,
             "ticks": ""
            },
            "type": "contourcarpet"
           }
          ],
          "heatmap": [
           {
            "colorbar": {
             "outlinewidth": 0,
             "ticks": ""
            },
            "colorscale": [
             [
              0,
              "#0d0887"
             ],
             [
              0.1111111111111111,
              "#46039f"
             ],
             [
              0.2222222222222222,
              "#7201a8"
             ],
             [
              0.3333333333333333,
              "#9c179e"
             ],
             [
              0.4444444444444444,
              "#bd3786"
             ],
             [
              0.5555555555555556,
              "#d8576b"
             ],
             [
              0.6666666666666666,
              "#ed7953"
             ],
             [
              0.7777777777777778,
              "#fb9f3a"
             ],
             [
              0.8888888888888888,
              "#fdca26"
             ],
             [
              1,
              "#f0f921"
             ]
            ],
            "type": "heatmap"
           }
          ],
          "heatmapgl": [
           {
            "colorbar": {
             "outlinewidth": 0,
             "ticks": ""
            },
            "colorscale": [
             [
              0,
              "#0d0887"
             ],
             [
              0.1111111111111111,
              "#46039f"
             ],
             [
              0.2222222222222222,
              "#7201a8"
             ],
             [
              0.3333333333333333,
              "#9c179e"
             ],
             [
              0.4444444444444444,
              "#bd3786"
             ],
             [
              0.5555555555555556,
              "#d8576b"
             ],
             [
              0.6666666666666666,
              "#ed7953"
             ],
             [
              0.7777777777777778,
              "#fb9f3a"
             ],
             [
              0.8888888888888888,
              "#fdca26"
             ],
             [
              1,
              "#f0f921"
             ]
            ],
            "type": "heatmapgl"
           }
          ],
          "histogram": [
           {
            "marker": {
             "pattern": {
              "fillmode": "overlay",
              "size": 10,
              "solidity": 0.2
             }
            },
            "type": "histogram"
           }
          ],
          "histogram2d": [
           {
            "colorbar": {
             "outlinewidth": 0,
             "ticks": ""
            },
            "colorscale": [
             [
              0,
              "#0d0887"
             ],
             [
              0.1111111111111111,
              "#46039f"
             ],
             [
              0.2222222222222222,
              "#7201a8"
             ],
             [
              0.3333333333333333,
              "#9c179e"
             ],
             [
              0.4444444444444444,
              "#bd3786"
             ],
             [
              0.5555555555555556,
              "#d8576b"
             ],
             [
              0.6666666666666666,
              "#ed7953"
             ],
             [
              0.7777777777777778,
              "#fb9f3a"
             ],
             [
              0.8888888888888888,
              "#fdca26"
             ],
             [
              1,
              "#f0f921"
             ]
            ],
            "type": "histogram2d"
           }
          ],
          "histogram2dcontour": [
           {
            "colorbar": {
             "outlinewidth": 0,
             "ticks": ""
            },
            "colorscale": [
             [
              0,
              "#0d0887"
             ],
             [
              0.1111111111111111,
              "#46039f"
             ],
             [
              0.2222222222222222,
              "#7201a8"
             ],
             [
              0.3333333333333333,
              "#9c179e"
             ],
             [
              0.4444444444444444,
              "#bd3786"
             ],
             [
              0.5555555555555556,
              "#d8576b"
             ],
             [
              0.6666666666666666,
              "#ed7953"
             ],
             [
              0.7777777777777778,
              "#fb9f3a"
             ],
             [
              0.8888888888888888,
              "#fdca26"
             ],
             [
              1,
              "#f0f921"
             ]
            ],
            "type": "histogram2dcontour"
           }
          ],
          "mesh3d": [
           {
            "colorbar": {
             "outlinewidth": 0,
             "ticks": ""
            },
            "type": "mesh3d"
           }
          ],
          "parcoords": [
           {
            "line": {
             "colorbar": {
              "outlinewidth": 0,
              "ticks": ""
             }
            },
            "type": "parcoords"
           }
          ],
          "pie": [
           {
            "automargin": true,
            "type": "pie"
           }
          ],
          "scatter": [
           {
            "fillpattern": {
             "fillmode": "overlay",
             "size": 10,
             "solidity": 0.2
            },
            "type": "scatter"
           }
          ],
          "scatter3d": [
           {
            "line": {
             "colorbar": {
              "outlinewidth": 0,
              "ticks": ""
             }
            },
            "marker": {
             "colorbar": {
              "outlinewidth": 0,
              "ticks": ""
             }
            },
            "type": "scatter3d"
           }
          ],
          "scattercarpet": [
           {
            "marker": {
             "colorbar": {
              "outlinewidth": 0,
              "ticks": ""
             }
            },
            "type": "scattercarpet"
           }
          ],
          "scattergeo": [
           {
            "marker": {
             "colorbar": {
              "outlinewidth": 0,
              "ticks": ""
             }
            },
            "type": "scattergeo"
           }
          ],
          "scattergl": [
           {
            "marker": {
             "colorbar": {
              "outlinewidth": 0,
              "ticks": ""
             }
            },
            "type": "scattergl"
           }
          ],
          "scattermapbox": [
           {
            "marker": {
             "colorbar": {
              "outlinewidth": 0,
              "ticks": ""
             }
            },
            "type": "scattermapbox"
           }
          ],
          "scatterpolar": [
           {
            "marker": {
             "colorbar": {
              "outlinewidth": 0,
              "ticks": ""
             }
            },
            "type": "scatterpolar"
           }
          ],
          "scatterpolargl": [
           {
            "marker": {
             "colorbar": {
              "outlinewidth": 0,
              "ticks": ""
             }
            },
            "type": "scatterpolargl"
           }
          ],
          "scatterternary": [
           {
            "marker": {
             "colorbar": {
              "outlinewidth": 0,
              "ticks": ""
             }
            },
            "type": "scatterternary"
           }
          ],
          "surface": [
           {
            "colorbar": {
             "outlinewidth": 0,
             "ticks": ""
            },
            "colorscale": [
             [
              0,
              "#0d0887"
             ],
             [
              0.1111111111111111,
              "#46039f"
             ],
             [
              0.2222222222222222,
              "#7201a8"
             ],
             [
              0.3333333333333333,
              "#9c179e"
             ],
             [
              0.4444444444444444,
              "#bd3786"
             ],
             [
              0.5555555555555556,
              "#d8576b"
             ],
             [
              0.6666666666666666,
              "#ed7953"
             ],
             [
              0.7777777777777778,
              "#fb9f3a"
             ],
             [
              0.8888888888888888,
              "#fdca26"
             ],
             [
              1,
              "#f0f921"
             ]
            ],
            "type": "surface"
           }
          ],
          "table": [
           {
            "cells": {
             "fill": {
              "color": "#EBF0F8"
             },
             "line": {
              "color": "white"
             }
            },
            "header": {
             "fill": {
              "color": "#C8D4E3"
             },
             "line": {
              "color": "white"
             }
            },
            "type": "table"
           }
          ]
         },
         "layout": {
          "annotationdefaults": {
           "arrowcolor": "#2a3f5f",
           "arrowhead": 0,
           "arrowwidth": 1
          },
          "autotypenumbers": "strict",
          "coloraxis": {
           "colorbar": {
            "outlinewidth": 0,
            "ticks": ""
           }
          },
          "colorscale": {
           "diverging": [
            [
             0,
             "#8e0152"
            ],
            [
             0.1,
             "#c51b7d"
            ],
            [
             0.2,
             "#de77ae"
            ],
            [
             0.3,
             "#f1b6da"
            ],
            [
             0.4,
             "#fde0ef"
            ],
            [
             0.5,
             "#f7f7f7"
            ],
            [
             0.6,
             "#e6f5d0"
            ],
            [
             0.7,
             "#b8e186"
            ],
            [
             0.8,
             "#7fbc41"
            ],
            [
             0.9,
             "#4d9221"
            ],
            [
             1,
             "#276419"
            ]
           ],
           "sequential": [
            [
             0,
             "#0d0887"
            ],
            [
             0.1111111111111111,
             "#46039f"
            ],
            [
             0.2222222222222222,
             "#7201a8"
            ],
            [
             0.3333333333333333,
             "#9c179e"
            ],
            [
             0.4444444444444444,
             "#bd3786"
            ],
            [
             0.5555555555555556,
             "#d8576b"
            ],
            [
             0.6666666666666666,
             "#ed7953"
            ],
            [
             0.7777777777777778,
             "#fb9f3a"
            ],
            [
             0.8888888888888888,
             "#fdca26"
            ],
            [
             1,
             "#f0f921"
            ]
           ],
           "sequentialminus": [
            [
             0,
             "#0d0887"
            ],
            [
             0.1111111111111111,
             "#46039f"
            ],
            [
             0.2222222222222222,
             "#7201a8"
            ],
            [
             0.3333333333333333,
             "#9c179e"
            ],
            [
             0.4444444444444444,
             "#bd3786"
            ],
            [
             0.5555555555555556,
             "#d8576b"
            ],
            [
             0.6666666666666666,
             "#ed7953"
            ],
            [
             0.7777777777777778,
             "#fb9f3a"
            ],
            [
             0.8888888888888888,
             "#fdca26"
            ],
            [
             1,
             "#f0f921"
            ]
           ]
          },
          "colorway": [
           "#636efa",
           "#EF553B",
           "#00cc96",
           "#ab63fa",
           "#FFA15A",
           "#19d3f3",
           "#FF6692",
           "#B6E880",
           "#FF97FF",
           "#FECB52"
          ],
          "font": {
           "color": "#2a3f5f"
          },
          "geo": {
           "bgcolor": "white",
           "lakecolor": "white",
           "landcolor": "#E5ECF6",
           "showlakes": true,
           "showland": true,
           "subunitcolor": "white"
          },
          "hoverlabel": {
           "align": "left"
          },
          "hovermode": "closest",
          "mapbox": {
           "style": "light"
          },
          "paper_bgcolor": "white",
          "plot_bgcolor": "#E5ECF6",
          "polar": {
           "angularaxis": {
            "gridcolor": "white",
            "linecolor": "white",
            "ticks": ""
           },
           "bgcolor": "#E5ECF6",
           "radialaxis": {
            "gridcolor": "white",
            "linecolor": "white",
            "ticks": ""
           }
          },
          "scene": {
           "xaxis": {
            "backgroundcolor": "#E5ECF6",
            "gridcolor": "white",
            "gridwidth": 2,
            "linecolor": "white",
            "showbackground": true,
            "ticks": "",
            "zerolinecolor": "white"
           },
           "yaxis": {
            "backgroundcolor": "#E5ECF6",
            "gridcolor": "white",
            "gridwidth": 2,
            "linecolor": "white",
            "showbackground": true,
            "ticks": "",
            "zerolinecolor": "white"
           },
           "zaxis": {
            "backgroundcolor": "#E5ECF6",
            "gridcolor": "white",
            "gridwidth": 2,
            "linecolor": "white",
            "showbackground": true,
            "ticks": "",
            "zerolinecolor": "white"
           }
          },
          "shapedefaults": {
           "line": {
            "color": "#2a3f5f"
           }
          },
          "ternary": {
           "aaxis": {
            "gridcolor": "white",
            "linecolor": "white",
            "ticks": ""
           },
           "baxis": {
            "gridcolor": "white",
            "linecolor": "white",
            "ticks": ""
           },
           "bgcolor": "#E5ECF6",
           "caxis": {
            "gridcolor": "white",
            "linecolor": "white",
            "ticks": ""
           }
          },
          "title": {
           "x": 0.05
          },
          "xaxis": {
           "automargin": true,
           "gridcolor": "white",
           "linecolor": "white",
           "ticks": "",
           "title": {
            "standoff": 15
           },
           "zerolinecolor": "white",
           "zerolinewidth": 2
          },
          "yaxis": {
           "automargin": true,
           "gridcolor": "white",
           "linecolor": "white",
           "ticks": "",
           "title": {
            "standoff": 15
           },
           "zerolinecolor": "white",
           "zerolinewidth": 2
          }
         }
        },
        "title": {
         "text": "Proporsi Status Newsletter Subscription User"
        },
        "xaxis": {
         "anchor": "y",
         "domain": [
          0,
          1
         ],
         "title": {
          "text": "Jumlah User"
         }
        },
        "yaxis": {
         "anchor": "x",
         "categoryarray": [
          false,
          true
         ],
         "categoryorder": "array",
         "domain": [
          0,
          1
         ],
         "title": {
          "text": "Status Subscription Newsletter"
         }
        }
       }
      }
     },
     "metadata": {},
     "output_type": "display_data"
    }
   ],
   "source": [
    "# menjumlahkan jumlah user dari masing-masing status newsletter subscription menggunakan fungsi .groupby() dan .sum() lalu diurutkan berdasarkan status newsletter yang tertinggi\n",
    "nl_bar = data.groupby('Newsletter_Subscription')['User_ID'].count().reset_index()\n",
    "nl_bar = nl_bar.sort_values('User_ID', ascending=False)\n",
    "\n",
    "# menampilkan visualisasi diagram bar plotly menggunakan fungsi px.bar()\n",
    "fig = px.bar(nl_bar, x='User_ID', y='Newsletter_Subscription',\n",
    "             color='Newsletter_Subscription',\n",
    "             color_discrete_sequence=['green', 'red'],\n",
    "             title='Proporsi Status Newsletter Subscription User')\n",
    "\n",
    "# mengubah judul axis x dan y menggunakan fungsi .update_layout()\n",
    "fig.update_layout(\n",
    "    xaxis_title= 'Jumlah User',\n",
    "    yaxis_title= 'Status Subscription Newsletter')\n",
    "\n",
    "# menampilkan diagram\n",
    "fig.show()"
   ]
  },
  {
   "cell_type": "markdown",
   "metadata": {},
   "source": [
    "Insight:\n",
    "\n",
    "Jumlah user yang subscribe newsletter lebih banyak 2.83% dari jumlah user yang tidak subscribe newsletter."
   ]
  },
  {
   "cell_type": "markdown",
   "metadata": {},
   "source": [
    "## Apakah ada korelasi antara income user dengan average order value yang dibelanjakan oleh user?"
   ]
  },
  {
   "cell_type": "markdown",
   "metadata": {},
   "source": [
    "Uji korelasi antara data income user (numerik-kontinu) dan average order value (numerik-kontinu) dilakukan menggunakan uji korelasi spearman. Untuk perumusan hipotesisnya menjadi:\n",
    "\n",
    "H0: Tidak ada korelasi antara income dan average order value user\n",
    "\n",
    "H1: Ada korelasi antara income dan average order value user\n",
    "\n",
    "Untuk perhitungannya seperti dibawah ini:"
   ]
  },
  {
   "cell_type": "code",
   "execution_count": 69,
   "metadata": {},
   "outputs": [
    {
     "name": "stdout",
     "output_type": "stream",
     "text": [
      "rho-correlation: -0.01, p-value: 0.7536334289888662\n"
     ]
    }
   ],
   "source": [
    "# menggunakan rumus uji korelasi spearman\n",
    "corr_rho, pval_s = stats.spearmanr(data['Income'], data['Average_Order_Value'])\n",
    "\n",
    "# menampilkan hasil uji korelasi spearman dan nilai p-value\n",
    "print(f\"rho-correlation: {corr_rho:.2f}, p-value: {pval_s}\")"
   ]
  },
  {
   "cell_type": "markdown",
   "metadata": {},
   "source": [
    "Insight:\n",
    "\n",
    "Hasil perhitungan dengan uji korelasi spearman adalah -0.01, angka tersebut negatif dan mendekati angka 0, artinya tidak ada korelasi antara income user dengan average order value user dan hasil nilai p-value adalah 0.75, angka tersebut lebih besar dari 0.05 artinya, tidak ada korelasi/hubungan yang signifikan antara kedua data tersebut.\n"
   ]
  },
  {
   "cell_type": "markdown",
   "metadata": {},
   "source": [
    "## Apakah ada korelasi antara total revenue dengan average order value yang dibelanjakan oleh user?"
   ]
  },
  {
   "cell_type": "markdown",
   "metadata": {},
   "source": [
    "Uji korelasi antara data total revenue (numerik-kontinu) dan average order value (numerik-kontinu) dilakukan menggunakan uji korelasi spearman. Untuk perumusan hipotesisnya menjadi:\n",
    "\n",
    "H0: Tidak ada korelasi antara total revenue dan average order value user\n",
    "\n",
    "H1: Ada korelasi antara total revenue dan average order value user\n",
    "\n",
    "Untuk perhitungannya seperti dibawah ini:"
   ]
  },
  {
   "cell_type": "code",
   "execution_count": 70,
   "metadata": {},
   "outputs": [
    {
     "name": "stdout",
     "output_type": "stream",
     "text": [
      "rho-correlation: 0.10, p-value: 0.002080805389466223\n"
     ]
    }
   ],
   "source": [
    "# menggunakan rumus uji korelasi spearman\n",
    "corr_rho, pval_s = stats.spearmanr(data['Total_Spending'], data['Average_Order_Value'])\n",
    "\n",
    "# menampilkan hasil uji korelasi spearman dan nilai p-value\n",
    "print(f\"rho-correlation: {corr_rho:.2f}, p-value: {pval_s}\")"
   ]
  },
  {
   "cell_type": "markdown",
   "metadata": {},
   "source": [
    "Insight:\n",
    "\n",
    "Hasil perhitungan dengan uji korelasi spearman adalah 0.10, angka tersebut positif dan mendekati angka 0, artinya ada korelasi antara total revenue dengan average order value user tetapi sangat lemah dan hasil nilai p-value adalah 0.002, angka tersebut lebih kecil dari 0.05 sehingga H0 ditolak, artinya ada korelasi yang signifikan tetapi sangat lemah dari kedua data tersebut."
   ]
  },
  {
   "cell_type": "markdown",
   "metadata": {},
   "source": [
    "## Apakah ada korelasi antara interest user dengan product category?"
   ]
  },
  {
   "cell_type": "markdown",
   "metadata": {},
   "source": [
    "Uji korelasi antara data interest (kategorikan-nominal) dan average order value (kategorikan-nominal) dilakukan menggunakan uji korelasi chi-squared. Untuk perumusan hipotesisnya menjadi:\n",
    "\n",
    "H0: Tidak ada korelasi antara interest dan kategori produk\n",
    "\n",
    "H1: Ada korelasi antara interest dan kategori produk\n",
    "\n",
    "Untuk perhitungannya seperti dibawah ini:"
   ]
  },
  {
   "cell_type": "code",
   "execution_count": 71,
   "metadata": {},
   "outputs": [
    {
     "name": "stdout",
     "output_type": "stream",
     "text": [
      "P-value: 0.4567048696797793\n"
     ]
    }
   ],
   "source": [
    "# menggunakan rumus uji korelasi chi-square\n",
    "contingency_tableip = pd.crosstab(data['Interests'],data['Product_Category_Preference'])\n",
    "res = stats.chi2_contingency(contingency_tableip)\n",
    "\n",
    "# menampilkan hasil uji korelasi chi-square\n",
    "print(\"P-value:\",res.pvalue)"
   ]
  },
  {
   "cell_type": "markdown",
   "metadata": {},
   "source": [
    "Insight:\n",
    "\n",
    "Hasil perhitungan dengan uji korelasi chi-squared menunjukkan nilai p-value adalah 0.456, angka tersebut lebih besar dari 0.05 sebagai angka critical value sehingga H0 diterima, artinya tidak ada korelasi yang signifikan dari kedua data tersebut."
   ]
  },
  {
   "cell_type": "markdown",
   "metadata": {},
   "source": [
    "## Apakah ada korelasi antara kategori umur dengan kategori produk?"
   ]
  },
  {
   "cell_type": "markdown",
   "metadata": {},
   "source": [
    "Uji korelasi antara data kategori umur (kategorikan-nominal) dan kategori produk (kategorikan-nominal) dilakukan menggunakan uji korelasi chi-squared. Untuk perumusan hipotesisnya menjadi:\n",
    "\n",
    "H0: Tidak ada korelasi antara kategori umur dan kategori produk\n",
    "\n",
    "H1: Ada korelasi antara kategori umur dan kategori produk\n",
    "\n",
    "Untuk perhitungannya seperti dibawah ini:"
   ]
  },
  {
   "cell_type": "code",
   "execution_count": 72,
   "metadata": {},
   "outputs": [
    {
     "name": "stdout",
     "output_type": "stream",
     "text": [
      "P-value: 0.92533447739625\n"
     ]
    }
   ],
   "source": [
    "# menggunakan rumus uji korelasi chi-square\n",
    "contingency_table = pd.crosstab(data['Age_Category'],data['Product_Category_Preference'])\n",
    "res = stats.chi2_contingency(contingency_table)\n",
    "\n",
    "# menampilkan hasil uji korelasi chi-square\n",
    "print(\"P-value:\",res.pvalue)"
   ]
  },
  {
   "cell_type": "markdown",
   "metadata": {},
   "source": [
    "Insight:\n",
    "\n",
    "Hasil perhitungan dengan uji korelasi chi-squared menunjukkan nilai p-value adalah 0.925, angka tersebut lebih besar dari 0.05 sebagai angka critical value sehingga H0 diterima, artinya tidak ada korelasi yang signifikan dari kedua data tersebut."
   ]
  },
  {
   "cell_type": "markdown",
   "metadata": {},
   "source": [
    "## Apakah ada perbedaan frekuensi belanja antara user yang subscribe newsletter dan tidak subscribe?"
   ]
  },
  {
   "cell_type": "markdown",
   "metadata": {},
   "source": [
    "Untuk menguji apakah ada perbedaan antara frekuensi belanja user yang subscribe newsletter dengan yang tidak subscribe newsletter, perhitungannya menggunakan two sample test karena sample data yang diujikan berbeda / independen. Untuk perumusan hipotesisnya menjadi:\n",
    "\n",
    "H0: Frekuensi belanja user yang subscribe newsletter == Frekuensi pembelanjaan user yang tidak subscribe newsletter\n",
    "\n",
    "H1: Frekuensi belanja user yang subscribe newsletter != Frekuensi pembelanjaan user yang tidak subscribe newsletter\n",
    "\n",
    "Untuk perhitungannya seperti dibawah ini:"
   ]
  },
  {
   "cell_type": "code",
   "execution_count": 73,
   "metadata": {},
   "outputs": [
    {
     "name": "stdout",
     "output_type": "stream",
     "text": [
      "T-Statistic: 0.06868370337595951\n",
      "P-value: 0.9452551487961752\n"
     ]
    }
   ],
   "source": [
    "# mmenggabungkan data frekuensi belanja dari masing-masing user yang subscribe newsletter dan tidak subscribe dan disimpan ke dalam variabel terpisah\n",
    "subFreq = data['Purchase_Frequency'][data['Newsletter_Subscription']== True]\n",
    "nonsubFreq = data['Purchase_Frequency'][data['Newsletter_Subscription']== False]\n",
    "\n",
    "# menggunakan rumus two sample test\n",
    "t_stat, p_val = stats.ttest_ind(subFreq, nonsubFreq)\n",
    "\n",
    "# menampilkan hasil t-test dan p-value\n",
    "print('T-Statistic:',t_stat)\n",
    "print('P-value:',p_val)"
   ]
  },
  {
   "cell_type": "markdown",
   "metadata": {},
   "source": [
    "Insight:\n",
    "\n",
    "Dari uji hipotesis yang sudah dilakukan, hasilnya menunjukkan H0 bisa diterima karena nilai p-value lebih besar dari 0.05, jika dilihat dari hasil perhitungan T-test yang mendekati angka 0 artinya sebaran data cenderung ke arah positif tidak jauh dari nilai rata-rata, jadi bisa disimpulkan bahwa frekuensi belanja user yang subscribe newsletter sama dengan frekuensi belanja user yang tidak subscribe newsletter."
   ]
  },
  {
   "cell_type": "markdown",
   "metadata": {},
   "source": [
    "## Apakah ada perbedaan antara lamanya user terakhir login dari user yang subscribe newsletter dan tidak subscribe?"
   ]
  },
  {
   "cell_type": "markdown",
   "metadata": {},
   "source": [
    "Untuk menguji apakah ada perbedaan antara lama user terakhir login dari user yang subscribe newsletter dengan yang tidak subscribe newsletter, perhitungannya menggunakan two sample test karena sample data yang diujikan berbeda / independen. Untuk perumusan hipotesisnya menjadi:\n",
    "\n",
    "H0: Lama user terakhir login dari user yang subscribe newsletter == lama user terakhir login dari user yang tidak subscribe newsletter\n",
    "\n",
    "H1: Lama user terakhir login dari user yang subscribe newsletter != lama user terakhir login dari user yang tidak subscribe newsletter\n",
    "\n",
    "Untuk perhitungannya seperti dibawah ini:"
   ]
  },
  {
   "cell_type": "code",
   "execution_count": 74,
   "metadata": {},
   "outputs": [
    {
     "name": "stdout",
     "output_type": "stream",
     "text": [
      "T-Statistic: -1.257614910727311\n",
      "P-value: 0.20882524967296492\n"
     ]
    }
   ],
   "source": [
    "# menggabungkan data lama terakhir user dari masing-masing user yang subscribe newsletter dan tidak subscribe dan disimpan ke dalam variabel terpisah\n",
    "subLalda = data['Last_Login_Days_Ago'][data['Newsletter_Subscription']== True]\n",
    "nonsubLalda = data['Last_Login_Days_Ago'][data['Newsletter_Subscription']== False]\n",
    "\n",
    "# menggunakan rumus two sample test\n",
    "t_stat, p_val = stats.ttest_ind(subLalda, nonsubLalda)\n",
    "\n",
    "# menampilkan hasil t-test dan p-value\n",
    "print('T-Statistic:',t_stat)\n",
    "print('P-value:',p_val)"
   ]
  },
  {
   "cell_type": "markdown",
   "metadata": {},
   "source": [
    "Insight:\n",
    "\n",
    "Dari uji hipotesis yang sudah dilakukan, hasilnya menunjukkan H0 bisa diterima karena nilai p-value lebih besar dari 0.05, dan jika dilihat dari hasil perhitungan T-test yang bernilai -1.26 artinya sebaran data cenderung ke arah negatif dan tidak terlalu jauh dari nilai rata-rata, jadi bisa disimpulkan bahwa lama user terakhir login dari user yang subscribe newsletter sama dengan lama user terakhir login dari user yang tidak subscribe newsletter."
   ]
  },
  {
   "cell_type": "markdown",
   "metadata": {},
   "source": [
    "## Apakah ada perbedaan nilai belanja rata-rata dari user yang subscribe newsletter dan tidak subscribe newlestter?"
   ]
  },
  {
   "cell_type": "markdown",
   "metadata": {},
   "source": [
    "Untuk menguji apakah ada perbedaan antara nilai rata-rata belanja user yang subscribe newsletter dengan yang tidak subscribe newsletter, perhitungannya menggunakan two sample test karena sample data yang diujikan berbeda / independen. Untuk perumusan hipotesisnya menjadi:\n",
    "\n",
    "H0: nilai rata-rata belanja dari user yang subscribe newsletter == nilai rata-rata belanja dari user yang tidak subscribe newsletter\n",
    "\n",
    "H1: nilai rata-rata belanja dari user yang subscribe newsletter != nilai rata-rata belanja dari user yang tidak subscribe newsletter\n",
    "\n",
    "Untuk perhitungannya seperti dibawah ini:"
   ]
  },
  {
   "cell_type": "code",
   "execution_count": 75,
   "metadata": {},
   "outputs": [
    {
     "name": "stdout",
     "output_type": "stream",
     "text": [
      "T-Statistic: 0.09012604663931488\n",
      "P-value: 0.9282051352246777\n"
     ]
    }
   ],
   "source": [
    "# mmenggabungkan data nilai rata-rata belanja dari masing-masing user yang subscribe newsletter dan tidak subscribe dan disimpan ke dalam variabel terpisah\n",
    "subAOV = data['Average_Order_Value'][data['Newsletter_Subscription']== True]\n",
    "nonsubAOV = data['Average_Order_Value'][data['Newsletter_Subscription']== False]\n",
    "\n",
    "# menggunakan rumus two sample test\n",
    "t_stat, p_val = stats.ttest_ind(subAOV, nonsubAOV)\n",
    "\n",
    "# menampilkan hasil t-test dan p-value\n",
    "print('T-Statistic:',t_stat)\n",
    "print('P-value:',p_val)"
   ]
  },
  {
   "cell_type": "markdown",
   "metadata": {},
   "source": [
    "Insight:\n",
    "\n",
    "Dari uji hipotesis yang sudah dilakukan, hasilnya menunjukkan H0 bisa diterima karena nilai p-value lebih besar dari 0.05, dan jika dilihat dari hasil perhitungan T-test yang bernilai 0.09 artinya sebaran data cenderung ke arah positif dan tidak jauh dari nilai rata-rata, jadi bisa disimpulkan bahwa nilai rata-rata belanja dari user yang subscribe newsletter sama dengan nilai rata-rata belanja dari user yang tidak subscribe newsletter."
   ]
  },
  {
   "cell_type": "markdown",
   "metadata": {},
   "source": [
    "# Pengambilan Kesimpulan"
   ]
  },
  {
   "cell_type": "markdown",
   "metadata": {},
   "source": [
    "## Kesimpulan Hasil Analisa"
   ]
  },
  {
   "cell_type": "markdown",
   "metadata": {},
   "source": [
    "Dari analisa informasi yang bisa didapatkan:\n",
    "\n",
    "1. Kategori produk Apparel menjadi penghasil revenue terbanyak, kategori Books menjadi penghasil revenue terendah, kategori Home & Kitchen dan kategori produk Electronics menjadi penghasil revenue yang hampir sama\n",
    "2. User yang berasal dari lokasi Suburban dan Urban menjadi penghasil revenue terbanyak sebesar, terkecilnya user dari lokasi Rual\n",
    "3. Tidak ada perbedaan total revenue yang signifikan dari pria maupun wanita yang bertransaksi\n",
    "4. Revenue terbanyak didapatkan dari kategori usia yang bisa dikategorikan usia yang sudah stabil secara finansial\n",
    "5. Tidak ada perbedaan yang signifikan antara jumlah user yang subscribe newsletter dan yang tidak subscribe newsletter\n",
    "6. Tidak ada korelasi/hubungan yang signifikan antara average order value user dengan income\n",
    "7. Ada korelasi/hubungan yang lemah antara average order value user dengan total revenue\n",
    "8. Tidak ada korelasi/hubungan yang signifikan antara kategori produk dengan interest dan kategori usia\n",
    "9. Frekuensi belanja user yang subscribe newsletter sama dengan frekuensi belanja user yang tidak subscribe newsletter\n",
    "10. Lama user terakhir login dari user yang subscribe newsletter sama dengan lama user terakhir login dari user yang tidak subscribe newsletter\n",
    "11. Nilai rata-rata belanja dari user yang subscribe newsletter sama dengan nilai rata-rata belanja dari user yang tidak subscribe newsletter\n",
    "\n",
    "Kesimpulannya:\n",
    "\n",
    "Total revenue yang terbentuk distribusinya hampir merata baik dari gender user, kategori produk pilihan user, lokasi user, status newsletter user, dan status newletter user tidak mempengaruhi behaviour user dalam belanja. Temuan-temuan tersebut masih bisa dimanfaatkan dalam strategi pemasaran dan meningkatkan nilai rata-rata belanja user.\n"
   ]
  },
  {
   "cell_type": "markdown",
   "metadata": {},
   "source": [
    "## Rekomendasi dari Hasil Analisa"
   ]
  },
  {
   "cell_type": "markdown",
   "metadata": {},
   "source": [
    "Untuk meningkatkan average order value atau nilai rata-rata belanja user, bisa menggunakan sistem promosi  seperti:\n",
    "\n",
    "1. Skema bundling promo dari kategori Apparel dengan produk lain\n",
    "2. Pembelian produk Books akan mendapatkan diskon tambahan 15% untuk pembelian kategori produk lainnya agar bisa meningkatkan penjualan kategori Books.\n",
    "3. Free shipping untuk user yang berada di lokasi Urban\n",
    "4. Diskon shipping 10% untuk user yang berada di lokasi Suburban\n",
    "5. Diskon shipping 30% untuk user yang berada di lokasi Rural\n",
    "6. Mengkustomisasi produk rekomendasi ketika user login ke akunnya sesuai dengan interest user\n",
    "7. Mempertahankan katalog produk yang sudah ada, dan jika memungkinkan produk yang unisex khususnya Apparel bisa ditambah\n",
    "8. Bisa membuat program seasonal diskon, karena bulan September adalah tahun ajaran baru bisa membuat diskon tambahan 10% untuk pembelian kategori produk Books\n",
    "9. Bisa membuat sistem membership dengan sistem tiering yang memiliki benefit di setiap tiernya\n",
    "10. Karena status newsletter subscription user tidak memiliki perbedaan dengan frekuensi belanja, lama terakhir user login, dan average order value user, maka kita tetap bisa menjalankan campain email marketing dan optimisasi website serta pengumuman diskon melalui media tersebut."
   ]
  }
 ],
 "metadata": {
  "kernelspec": {
   "display_name": "base",
   "language": "python",
   "name": "python3"
  },
  "language_info": {
   "codemirror_mode": {
    "name": "ipython",
    "version": 3
   },
   "file_extension": ".py",
   "mimetype": "text/x-python",
   "name": "python",
   "nbconvert_exporter": "python",
   "pygments_lexer": "ipython3",
   "version": "3.12.4"
  }
 },
 "nbformat": 4,
 "nbformat_minor": 2
}
